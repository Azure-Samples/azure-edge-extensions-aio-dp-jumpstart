{
 "cells": [
  {
   "cell_type": "markdown",
   "metadata": {},
   "source": [
    "# run-zurich-validation.sh\n",
    "\n",
    "Inside the `run-zurich-validation.sh` script, we have a few different test scenarios that we want to run:`validate-data`, `validate-machine-status`, and `validate-total-counter`. In this notebook we will be able to run through each of these tests and see the individualized results. \n",
    "\n",
    "For the purposes of this notebook, we will skip this cell and run the tests individually."
   ]
  },
  {
   "cell_type": "code",
   "execution_count": 1,
   "metadata": {
    "vscode": {
     "languageId": "shellscript"
    }
   },
   "outputs": [
    {
     "name": "stdout",
     "output_type": "stream",
     "text": [
      "\u001b[0;34m => Running input watcher on zurich/input \u001b[0m\n",
      "Setting up watches.\n",
      "Watches established.\n"
     ]
    },
    {
     "name": "stdout",
     "output_type": "stream",
     "text": [
      "\u001b[0;34m => Running output watcher on metrics/aio/total-count \u001b[0m\n",
      "\u001b[0;34m => Running output watcher on zurich/input/valid \u001b[0m\n",
      "\u001b[0;34m => Running output watcher on metrics/aio/machine-status \u001b[0m\n",
      "\u001b[0;34m => Running output watcher on zurich/input/invalid \u001b[0m\n",
      "\u001b[0;34m => Running output watcher on zurich/debug \u001b[0m\n",
      "\u001b[0;34m => Running output watcher on zurich/input/valid \u001b[0m\n",
      "\u001b[0;34m => Running output watcher on metrics/aio/machine-status \u001b[0m\n",
      "\u001b[0;34m => Running output watcher on zurich/input/invalid \u001b[0m\n",
      "\u001b[0;34m => Running output watcher on zurich/debug \u001b[0m\n",
      "Processing ./assets/zurich-validation/data-validation/invalid/invalid-empty-payload.json\n",
      "Processing ./assets/zurich-validation/data-validation/invalid/invalid-messy-payload-01.json\n",
      "Processing ./assets/zurich-validation/data-validation/invalid/invalid-messy-payload-02.json\n",
      "Processing ./assets/zurich-validation/data-validation/invalid/invalid-missing-messageType.json\n",
      "Processing ./assets/zurich-validation/data-validation/invalid/invalid-type-messageType.json\n",
      "Processing ./assets/zurich-validation/data-validation/valid/valid-01.json\n",
      "Processing ./assets/zurich-validation/data-validation/valid/valid-02.json\n",
      "Processing ./assets/zurich-validation/data-validation/valid/valid-03.json\n",
      "\u001b[0;34m => [EXPECTED] Valid: 3, Invalid: 5 \u001b[0m\n",
      "\u001b[0;34m => Waiting for processing [8 seconds] ... \u001b[0m\n",
      "\n",
      "\u001b[0;34m => [TEST RESULTS] \u001b[0m\n",
      "\n",
      "\u001b[32m INFO: 3 messages found \u001b[0m\n",
      "\u001b[32m INFO: .workspace/zurich/input/valid/20240307231641261.json processed correctly. \u001b[0m\n",
      "\u001b[32m INFO: .workspace/zurich/input/valid/20240307231641304.json processed correctly. \u001b[0m\n",
      "\u001b[32m INFO: .workspace/zurich/input/valid/20240307231641340.json processed correctly. \u001b[0m\n",
      "\u001b[32m INFO: 5 messages found \u001b[0m\n",
      "\u001b[32m INFO: .workspace/zurich/input/invalid/20240307231641169.json processed correctly. \u001b[0m\n",
      "\u001b[32m INFO: .workspace/zurich/input/invalid/20240307231641203.json processed correctly. \u001b[0m\n",
      "\u001b[32m INFO: .workspace/zurich/input/invalid/20240307231641244.json processed correctly. \u001b[0m\n",
      "\u001b[32m INFO: .workspace/zurich/input/invalid/20240307231641284.json processed correctly. \u001b[0m\n",
      "\u001b[32m INFO: .workspace/zurich/input/invalid/20240307231641319.json processed correctly. \u001b[0m\n",
      "Processing ./assets/zurich-validation/machine-status/fault/fault-true.json\n",
      "\u001b[32m INFO: [.workspace/metrics/aio/machine-status] 20240307231649430.json contains expected value of FAULT. \u001b[0m\n",
      "Processing ./assets/zurich-validation/machine-status/idle/fault-false.json\n",
      "Processing ./assets/zurich-validation/machine-status/idle/idle-true.json\n",
      "\u001b[32m INFO: [.workspace/metrics/aio/machine-status] 20240307231651474.json contains expected value of IDLE. \u001b[0m\n",
      "Processing ./assets/zurich-validation/machine-status/mode1/fault-false.json\n",
      "Processing ./assets/zurich-validation/machine-status/mode1/idle-false.json\n",
      "Processing ./assets/zurich-validation/machine-status/mode1/mode1-true.json\n",
      "Processing ./assets/zurich-validation/machine-status/mode1/mode2-false.json\n",
      "\u001b[32m INFO: [.workspace/metrics/aio/machine-status] 20240307231655534.json contains expected value of MODE1. \u001b[0m\n",
      "Processing ./assets/zurich-validation/machine-status/mode2/fault-false.json\n",
      "Processing ./assets/zurich-validation/machine-status/mode2/idle-false.json\n",
      "Processing ./assets/zurich-validation/machine-status/mode2/mode1-false.json\n",
      "Processing ./assets/zurich-validation/machine-status/mode2/mode2-true.json\n",
      "\u001b[32m INFO: [.workspace/metrics/aio/machine-status] 20240307231659582.json contains expected value of MODE2. \u001b[0m\n",
      "Processing ./assets/zurich-validation/machine-status/multiple-machines/fault-machine1-true.json\n",
      "Processing ./assets/zurich-validation/machine-status/multiple-machines/fault-machine2-false.json\n",
      "Processing ./assets/zurich-validation/machine-status/multiple-machines/idle-machine2-true.json\n",
      "\u001b[32m INFO: [.workspace/metrics/aio/machine-status] 20240307231702625.json contains expected value of IDLE. \u001b[0m\n",
      "Processing ./assets/zurich-validation/machine-status/undefined/fault-false.json\n",
      "Processing ./assets/zurich-validation/machine-status/undefined/idle-false.json\n",
      "Processing ./assets/zurich-validation/machine-status/undefined/mode1-false.json\n",
      "Processing ./assets/zurich-validation/machine-status/undefined/mode2-false.json\n",
      "\u001b[32m INFO: [.workspace/metrics/aio/machine-status] 20240307231706703.json contains expected value of UNDEFINED. \u001b[0m\n",
      "Processing ./assets/zurich-validation/start-shift-total-count/start-shift-good-counter-machine2.json\n",
      "Processing ./assets/zurich-validation/start-shift-total-count/start-shift-bad-counter-machine2.json\n",
      "Processing ./assets/zurich-validation/total-counter/total-count-1/good-counter-1-machine2.json\n",
      "\u001b[0;34m Current AIO count: 972 (from: .workspace/metrics/aio/total-count) \u001b[0m\n",
      "Processing ./assets/zurich-validation/start-shift-total-count/start-shift-good-counter-machine2.json\n",
      "Processing ./assets/zurich-validation/start-shift-total-count/start-shift-bad-counter-machine2.json\n",
      "Processing ./assets/zurich-validation/total-counter/total-count-150-machine2/0-bad-counter-60-machine2.json\n",
      "Processing ./assets/zurich-validation/total-counter/total-count-150-machine2/1-bad-counter-100-machine1.json\n",
      "Processing ./assets/zurich-validation/total-counter/total-count-150-machine2/2-good-counter-90-machine2.json\n",
      "\u001b[32m INFO: [.workspace/metrics/aio/total-count] 20240307231750783.json contains expected value of 1122. \u001b[0m\n",
      "Processing ./assets/zurich-validation/start-shift-total-count/start-shift-good-counter.json\n",
      "Processing ./assets/zurich-validation/start-shift-total-count/start-shift-bad-counter.json\n",
      "Processing ./assets/zurich-validation/total-counter/total-count-1/good-counter-1.json\n",
      "\u001b[0;34m Current AIO count: 1964 (from: .workspace/metrics/aio/total-count) \u001b[0m\n",
      "Processing ./assets/zurich-validation/start-shift-total-count/start-shift-good-counter.json\n",
      "Processing ./assets/zurich-validation/start-shift-total-count/start-shift-bad-counter.json\n",
      "Processing ./assets/zurich-validation/total-counter/total-count-250-multiple-shifts/0-bad-counter-60.json\n",
      "Processing ./assets/zurich-validation/total-counter/total-count-250-multiple-shifts/1-good-counter-40.json\n",
      "Processing ./assets/zurich-validation/total-counter/total-count-250-multiple-shifts/2-start-shift-good-counter.json\n",
      "Processing ./assets/zurich-validation/total-counter/total-count-250-multiple-shifts/3-start-shift-bad-counter.json\n",
      "Processing ./assets/zurich-validation/total-counter/total-count-250-multiple-shifts/4-good-counter-30.json\n",
      "Processing ./assets/zurich-validation/total-counter/total-count-250-multiple-shifts/5-bad-counter-70.json\n",
      "Processing ./assets/zurich-validation/total-counter/total-count-250-multiple-shifts/6-bad-counter-100.json\n",
      "Processing ./assets/zurich-validation/total-counter/total-count-250-multiple-shifts/7-good-counter-50.json\n",
      "\u001b[32m INFO: [.workspace/metrics/aio/total-count] 20240307231857909.json contains expected value of 2214. \u001b[0m\n"
     ]
    }
   ],
   "source": [
    "# to run full integration tests\n",
    "./run-zurich-validation.sh"
   ]
  },
  {
   "cell_type": "markdown",
   "metadata": {},
   "source": [
    "## Running the Tests\n",
    "\n",
    "This first section sets up the test environment and creates the watchers needed to run the tests. \n",
    "\n",
    "Once this is run you should see a new directory called `.workspace` which contains the `logs`, `metrics`, and `zurich` directories with the various outputs in json files. The `logs` directory contains the logs for the tests, the `metrics` directory contains the machine status and total counter topic outputs, and the `zurich` directory contains the input and processed input json files for the tests."
   ]
  },
  {
   "cell_type": "code",
   "execution_count": 4,
   "metadata": {
    "vscode": {
     "languageId": "shellscript"
    }
   },
   "outputs": [
    {
     "name": "stdout",
     "output_type": "stream",
     "text": [
      "[1]   Terminated              ./data-feeder/run-input.sh \"$1\" > $WORKSPACE/logs/zurich-input.log\n",
      "[2]   Terminated              ./data-feeder/run-output.sh \"$topic\" > \"$WORKSPACE/logs/${topics_and_logs[$topic]}\"\n",
      "[3]   Terminated              ./data-feeder/run-output.sh \"$topic\" > \"$WORKSPACE/logs/${topics_and_logs[$topic]}\"\n",
      "[4]   Terminated              ./data-feeder/run-output.sh \"$topic\" > \"$WORKSPACE/logs/${topics_and_logs[$topic]}\"\n",
      "[5]-  Terminated              ./data-feeder/run-output.sh \"$topic\" > \"$WORKSPACE/logs/${topics_and_logs[$topic]}\"\n",
      "[6]+  Terminated              ./data-feeder/run-output.sh \"$topic\" > \"$WORKSPACE/logs/${topics_and_logs[$topic]}\"\n"
     ]
    },
    {
     "name": "stdout",
     "output_type": "stream",
     "text": [
      "\u001b[0;34m => Running input watcher on zurich/input \u001b[0m\n",
      "[1] 150810\n",
      "Setting up watches.\n",
      "Watches established.\n",
      "[1] 150810\n",
      "Setting up watches.\n",
      "Watches established.\n",
      "\u001b[0;34m => Running output watcher on metrics/aio/total-count \u001b[0m\n",
      "[2] 150846\n",
      "\u001b[0;34m => Running output watcher on zurich/input/valid \u001b[0m\n",
      "[3] 150847\n",
      "\u001b[0;34m => Running output watcher on metrics/aio/machine-status \u001b[0m\n",
      "[4] 150848\n",
      "\u001b[0;34m => Running output watcher on zurich/input/invalid \u001b[0m\n",
      "[5] 150849\n",
      "\u001b[0;34m => Running output watcher on zurich/debug \u001b[0m\n",
      "[6] 150850\n"
     ]
    }
   ],
   "source": [
    "#!/bin/bash\n",
    "\n",
    ". ../utils/set-colors.sh\n",
    ". ../utils/create-workspace.sh\n",
    ". ./data-feeder/run-input-watchers.sh\n",
    ". ./data-feeder/run-output-watchers.sh\n",
    ". ./validations/validate-data.sh\n",
    ". ./validations/validate-machine-status.sh\n",
    ". ./validations/validate-total-counter.sh\n",
    "\n",
    "declare -A topics_and_logs\n",
    "topics_and_logs=(\n",
    "  [\"zurich/input/valid\"]=\"zurich-valid.log\"\n",
    "  [\"zurich/input/invalid\"]=\"zurich-invalid.log\"\n",
    "  [\"zurich/debug\"]=\"zurich-debug.log\"\n",
    "  [\"metrics/aio/machine-status\"]=\"zurich-aio-machine-status.log\"\n",
    "  [\"metrics/aio/total-count\"]=\"zurich-aio-total-count.log\"\n",
    ")\n",
    "\n",
    "WORKSPACE=\".workspace\"\n",
    "INPUT_TOPIC=\"zurich/input\"\n",
    "AIO_METRICS_TOPIC=\"metrics/aio\"\n",
    "\n",
    "create_workspace $WORKSPACE\n",
    "run_input_watcher $INPUT_TOPIC\n",
    "run_output_watchers"
   ]
  },
  {
   "cell_type": "markdown",
   "metadata": {},
   "source": [
    "Next we will run the `validate-data` test. This will iterate over the input files in the `/assets/zurich-validation/data-validation` directory and validate the data. We have 2 types of inputs: `valid-*.json` and `invalid-*.json`. The `valid-*.json` files are correct input payloads and should pass the validation. The `invalid-*.json` files should fail the validation based on various issues with the payload."
   ]
  },
  {
   "cell_type": "code",
   "execution_count": 5,
   "metadata": {
    "vscode": {
     "languageId": "shellscript"
    }
   },
   "outputs": [
    {
     "name": "stdout",
     "output_type": "stream",
     "text": [
      "Processing ./assets/zurich-validation/data-validation/invalid/invalid-empty-payload.json\n",
      "Processing ./assets/zurich-validation/data-validation/invalid/invalid-messy-payload-01.json\n",
      "Processing ./assets/zurich-validation/data-validation/invalid/invalid-messy-payload-02.json\n",
      "Processing ./assets/zurich-validation/data-validation/invalid/invalid-messy-payload-01.json\n",
      "Processing ./assets/zurich-validation/data-validation/invalid/invalid-messy-payload-02.json\n",
      "Processing ./assets/zurich-validation/data-validation/invalid/invalid-missing-messageType.json\n",
      "Processing ./assets/zurich-validation/data-validation/invalid/invalid-type-messageType.json\n",
      "Processing ./assets/zurich-validation/data-validation/valid/valid-01.json\n",
      "Processing ./assets/zurich-validation/data-validation/valid/valid-02.json\n",
      "Processing ./assets/zurich-validation/data-validation/valid/valid-03.json\n",
      "\u001b[0;34m => [EXPECTED] Valid: 3, Invalid: 5 \u001b[0m\n",
      "\u001b[0;34m => Waiting for processing [8 seconds] ... \u001b[0m\n",
      "\n",
      "\u001b[0;34m => [TEST RESULTS] \u001b[0m\n",
      "\n",
      "\u001b[32m INFO: 3 messages found \u001b[0m\n",
      "\u001b[32m INFO: .workspace/zurich/input/valid/20240307232306975.json processed correctly. \u001b[0m\n",
      "\u001b[32m INFO: .workspace/zurich/input/valid/20240307232307011.json processed correctly. \u001b[0m\n",
      "\u001b[32m INFO: .workspace/zurich/input/valid/20240307232307040.json processed correctly. \u001b[0m\n",
      "\u001b[32m INFO: 5 messages found \u001b[0m\n",
      "\u001b[32m INFO: .workspace/zurich/input/invalid/20240307232306853.json processed correctly. \u001b[0m\n",
      "\u001b[32m INFO: .workspace/zurich/input/invalid/20240307232306886.json processed correctly. \u001b[0m\n",
      "\u001b[32m INFO: .workspace/zurich/input/invalid/20240307232306915.json processed correctly. \u001b[0m\n",
      "\u001b[32m INFO: .workspace/zurich/input/invalid/20240307232306957.json processed correctly. \u001b[0m\n",
      "\u001b[32m INFO: .workspace/zurich/input/invalid/20240307232306998.json processed correctly. \u001b[0m\n"
     ]
    }
   ],
   "source": [
    "# test for valid input data\n",
    "test_for_valid_data"
   ]
  },
  {
   "cell_type": "markdown",
   "metadata": {},
   "source": [
    "The next test is the `total-counter` test. This test will iterate over the input files in the `/assets/zurich-validation/total-counter` directory and validate the data. It will pass in various payloads to the total-counter pipeline and check the output to make sure it is correct."
   ]
  },
  {
   "cell_type": "code",
   "execution_count": 6,
   "metadata": {
    "vscode": {
     "languageId": "shellscript"
    }
   },
   "outputs": [
    {
     "name": "stdout",
     "output_type": "stream",
     "text": [
      "Processing ./assets/zurich-validation/start-shift-total-count/start-shift-good-counter-machine2.json\n",
      "Processing ./assets/zurich-validation/start-shift-total-count/start-shift-bad-counter-machine2.json\n",
      "Processing ./assets/zurich-validation/total-counter/total-count-1/good-counter-1-machine2.json\n",
      "\u001b[0;34m Current AIO count: 1123 (from: .workspace/metrics/aio/total-count) \u001b[0m\n",
      "Processing ./assets/zurich-validation/start-shift-total-count/start-shift-good-counter-machine2.json\n",
      "Processing ./assets/zurich-validation/start-shift-total-count/start-shift-bad-counter-machine2.json\n",
      "Processing ./assets/zurich-validation/total-counter/total-count-150-machine2/0-bad-counter-60-machine2.json\n",
      "Processing ./assets/zurich-validation/total-counter/total-count-150-machine2/1-bad-counter-100-machine1.json\n",
      "Processing ./assets/zurich-validation/total-counter/total-count-150-machine2/2-good-counter-90-machine2.json\n",
      "\u001b[32m INFO: [.workspace/metrics/aio/total-count] 20240307232405101.json contains expected value of 1273. \u001b[0m\n",
      "Processing ./assets/zurich-validation/start-shift-total-count/start-shift-good-counter.json\n",
      "Processing ./assets/zurich-validation/start-shift-total-count/start-shift-bad-counter.json\n",
      "Processing ./assets/zurich-validation/total-counter/total-count-1/good-counter-1.json\n",
      "\u001b[0;34m Current AIO count: 2388 (from: .workspace/metrics/aio/total-count) \u001b[0m\n",
      "Processing ./assets/zurich-validation/start-shift-total-count/start-shift-good-counter.json\n",
      "Processing ./assets/zurich-validation/start-shift-total-count/start-shift-bad-counter.json\n",
      "Processing ./assets/zurich-validation/total-counter/total-count-250-multiple-shifts/0-bad-counter-60.json\n",
      "Processing ./assets/zurich-validation/total-counter/total-count-250-multiple-shifts/1-good-counter-40.json\n",
      "Processing ./assets/zurich-validation/total-counter/total-count-250-multiple-shifts/2-start-shift-good-counter.json\n",
      "Processing ./assets/zurich-validation/total-counter/total-count-250-multiple-shifts/3-start-shift-bad-counter.json\n",
      "Processing ./assets/zurich-validation/total-counter/total-count-250-multiple-shifts/4-good-counter-30.json\n",
      "Processing ./assets/zurich-validation/total-counter/total-count-250-multiple-shifts/5-bad-counter-70.json\n",
      "Processing ./assets/zurich-validation/total-counter/total-count-250-multiple-shifts/6-bad-counter-100.json\n",
      "Processing ./assets/zurich-validation/total-counter/total-count-250-multiple-shifts/7-good-counter-50.json\n",
      "\u001b[32m INFO: [.workspace/metrics/aio/total-count] 20240307232512244.json contains expected value of 2638. \u001b[0m\n"
     ]
    }
   ],
   "source": [
    "# test for total counter scenarios\n",
    "# Scenario 1: total count = 1\n",
    "# Scenario 2: total count 150\n",
    "# Scenario 3: total count = 250 with multiple shifts\n",
    "\n",
    "test_for_total_counter \"$AIO_METRICS_TOPIC\""
   ]
  },
  {
   "cell_type": "markdown",
   "metadata": {},
   "source": [
    "Finally, we will test through the various machine status scenarios. This test will iterate over the input files in the `/assets/zurich-validation/machine-status` directory and validate the data. It will pass in various payloads to the machine-status pipeline and check the output to make sure it is correct. "
   ]
  },
  {
   "cell_type": "code",
   "execution_count": 7,
   "metadata": {
    "vscode": {
     "languageId": "shellscript"
    }
   },
   "outputs": [
    {
     "name": "stdout",
     "output_type": "stream",
     "text": [
      "Processing ./assets/zurich-validation/machine-status/fault/fault-true.json\n",
      "\u001b[32m INFO: [.workspace/metrics/aio/machine-status] 20240307233333203.json contains expected value of FAULT. \u001b[0m\n",
      "Processing ./assets/zurich-validation/machine-status/idle/fault-false.json\n",
      "Processing ./assets/zurich-validation/machine-status/idle/idle-true.json\n",
      "\u001b[32m INFO: [.workspace/metrics/aio/machine-status] 20240307233335263.json contains expected value of IDLE. \u001b[0m\n",
      "Processing ./assets/zurich-validation/machine-status/mode1/fault-false.json\n",
      "Processing ./assets/zurich-validation/machine-status/mode1/idle-false.json\n",
      "Processing ./assets/zurich-validation/machine-status/mode1/mode1-true.json\n",
      "Processing ./assets/zurich-validation/machine-status/mode1/mode2-false.json\n",
      "\u001b[32m INFO: [.workspace/metrics/aio/machine-status] 20240307233339322.json contains expected value of MODE1. \u001b[0m\n",
      "Processing ./assets/zurich-validation/machine-status/mode2/fault-false.json\n",
      "Processing ./assets/zurich-validation/machine-status/mode2/idle-false.json\n",
      "Processing ./assets/zurich-validation/machine-status/mode2/mode1-false.json\n",
      "Processing ./assets/zurich-validation/machine-status/mode2/mode2-true.json\n",
      "\u001b[32m INFO: [.workspace/metrics/aio/machine-status] 20240307233343382.json contains expected value of MODE2. \u001b[0m\n",
      "Processing ./assets/zurich-validation/machine-status/multiple-machines/fault-machine1-true.json\n",
      "Processing ./assets/zurich-validation/machine-status/multiple-machines/fault-machine2-false.json\n",
      "Processing ./assets/zurich-validation/machine-status/multiple-machines/idle-machine2-true.json\n",
      "\u001b[32m INFO: [.workspace/metrics/aio/machine-status] 20240307233346439.json contains expected value of IDLE. \u001b[0m\n",
      "Processing ./assets/zurich-validation/machine-status/undefined/fault-false.json\n",
      "Processing ./assets/zurich-validation/machine-status/undefined/idle-false.json\n",
      "Processing ./assets/zurich-validation/machine-status/undefined/mode1-false.json\n",
      "Processing ./assets/zurich-validation/machine-status/undefined/mode2-false.json\n",
      "\u001b[32m INFO: [.workspace/metrics/aio/machine-status] 20240307233350496.json contains expected value of UNDEFINED. \u001b[0m\n"
     ]
    }
   ],
   "source": [
    "# test for machine status scenarios\n",
    "# Scenario 1: machine status = \"FAULT\"\n",
    "# Scenario 2: machine status = \"IDLE\"\n",
    "# Scenario 3: machine status = \"MODE1\"\n",
    "# Scenario 4: machine status = \"MODE2\"\n",
    "# Scenario 5: machine status = \"UNDEFINED\"\n",
    "\n",
    "test_for_machine_status \"$AIO_METRICS_TOPIC\""
   ]
  },
  {
   "cell_type": "markdown",
   "metadata": {},
   "source": [
    "In order to rerun tests, you will need to stop background processes created from previous tests."
   ]
  },
  {
   "cell_type": "code",
   "execution_count": 8,
   "metadata": {
    "vscode": {
     "languageId": "shellscript"
    }
   },
   "outputs": [
    {
     "name": "stdout",
     "output_type": "stream",
     "text": [
      "pkill: killing pid 38103 failed: Operation not permitted\n",
      "pkill: killing pid 38105 failed: Operation not permitted\n",
      "pkill: killing pid 38205 failed: Operation not permitted\n",
      "pkill: killing pid 38208 failed: Operation not permitted\n",
      "pkill: killing pid 40442 failed: Operation not permitted\n",
      "pkill: killing pid 41809 failed: Operation not permitted\n",
      "pkill: killing pid 42594 failed: Operation not permitted\n",
      "pkill: killing pid 43638 failed: Operation not permitted\n"
     ]
    },
    {
     "name": "stdout",
     "output_type": "stream",
     "text": [
      "[1]   Terminated              ./data-feeder/run-input.sh \"$1\" > $WORKSPACE/logs/zurich-input.log\n",
      "[2]   Terminated              ./data-feeder/run-output.sh \"$topic\" > \"$WORKSPACE/logs/${topics_and_logs[$topic]}\"\n",
      "[3]   Terminated              ./data-feeder/run-output.sh \"$topic\" > \"$WORKSPACE/logs/${topics_and_logs[$topic]}\"\n",
      "[4]   Terminated              ./data-feeder/run-output.sh \"$topic\" > \"$WORKSPACE/logs/${topics_and_logs[$topic]}\"\n",
      "[5]-  Terminated              ./data-feeder/run-output.sh \"$topic\" > \"$WORKSPACE/logs/${topics_and_logs[$topic]}\"\n",
      "[6]+  Terminated              ./data-feeder/run-output.sh \"$topic\" > \"$WORKSPACE/logs/${topics_and_logs[$topic]}\"\n"
     ]
    },
    {
     "ename": "",
     "evalue": "1",
     "output_type": "error",
     "traceback": []
    }
   ],
   "source": [
    "./clean-integration-tests.sh"
   ]
  }
 ],
 "metadata": {
  "kernelspec": {
   "display_name": "Bash",
   "language": "bash",
   "name": "bash"
  },
  "language_info": {
   "codemirror_mode": "shell",
   "file_extension": ".sh",
   "mimetype": "text/x-sh",
   "name": "bash"
  },
  "polyglot_notebook": {
   "kernelInfo": {
    "defaultKernelName": "csharp",
    "items": [
     {
      "aliases": [],
      "name": "csharp"
     }
    ]
   }
  }
 },
 "nbformat": 4,
 "nbformat_minor": 2
}
