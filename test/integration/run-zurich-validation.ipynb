{
 "cells": [
  {
   "cell_type": "markdown",
   "metadata": {},
   "source": [
    "# run-zurich-validation.sh\n",
    "\n",
    "Inside the `run-zurich-validation.sh` script, we have a few different test scenarios that we want to run:`validate-data`, `validate-machine-status`, and `validate-total-counter`. In this notebook we will be able to run through each of these tests and see the individualized results. \n",
    "\n",
    "For the purposes of this notebook, we will skip this cell and run the tests individually."
   ]
  },
  {
   "cell_type": "code",
   "execution_count": null,
   "metadata": {
    "vscode": {
     "languageId": "shellscript"
    }
   },
   "outputs": [
    {
     "name": "stdout",
     "output_type": "stream",
     "text": [
      "./validations/validate-data.sh: line 3: ../../utils/set-colors.sh: No such file or directory\n",
      "\u001b[0;34m => Running input watcher on zurich/input \u001b[0m\n",
      "Setting up watches.\n",
      "Watches established.\n",
      "\u001b[0;34m => Running output watcher on metrics/dotnet/machine-status \u001b[0m\n",
      "\u001b[0;34m => Running output watcher on zurich/input/valid \u001b[0m\n",
      "\u001b[0;34m => Running output watcher on metrics/machine-status \u001b[0m\n",
      "\u001b[0;34m => Running output watcher on zurich/input/invalid \u001b[0m\n",
      "\u001b[0;34m => Running output watcher on metrics/dotnet/total-count \u001b[0m\n",
      "\u001b[0;34m => Running output watcher on zurich/debug \u001b[0m\n",
      "\u001b[0;34m => Running output watcher on metrics/total-count \u001b[0m\n",
      "Processing ./assets/zurich-validation/data-validation/invalid/invalid-empty-payload.json\n",
      "Processing ./assets/zurich-validation/data-validation/invalid/invalid-messy-payload-01.json\n",
      "Processing ./assets/zurich-validation/data-validation/invalid/invalid-messy-payload-02.json\n",
      "Processing ./assets/zurich-validation/data-validation/invalid/invalid-missing-messageType.json\n",
      "Processing ./assets/zurich-validation/data-validation/invalid/invalid-type-messageType.json\n",
      "Processing ./assets/zurich-validation/data-validation/valid/valid-01.json\n",
      "Processing ./assets/zurich-validation/data-validation/valid/valid-02.json\n",
      "Processing ./assets/zurich-validation/data-validation/valid/valid-03.json\n",
      "\u001b[0;34m => [EXPECTED] Valid: 3, Invalid: 5 \u001b[0m\n",
      "\u001b[0;34m => Waiting for processing [8 seconds] ... \u001b[0m\n",
      "\n",
      "\u001b[0;34m => [TEST RESULTS] \u001b[0m\n",
      "\n",
      "\u001b[32m INFO: 3 messages found \u001b[0m\n",
      "\u001b[32m INFO: .workspace/zurich/input/valid/20240227211851978.json processed correctly. \u001b[0m\n",
      "\u001b[32m INFO: .workspace/zurich/input/valid/20240227211852019.json processed correctly. \u001b[0m\n",
      "\u001b[32m INFO: .workspace/zurich/input/valid/20240227211852058.json processed correctly. \u001b[0m\n",
      "\u001b[32m INFO: 5 messages found \u001b[0m\n",
      "\u001b[32m INFO: .workspace/zurich/input/invalid/20240227211851894.json processed correctly. \u001b[0m\n",
      "\u001b[32m INFO: .workspace/zurich/input/invalid/20240227211851927.json processed correctly. \u001b[0m\n",
      "\u001b[32m INFO: .workspace/zurich/input/invalid/20240227211851965.json processed correctly. \u001b[0m\n",
      "\u001b[32m INFO: .workspace/zurich/input/invalid/20240227211852014.json processed correctly. \u001b[0m\n",
      "\u001b[32m INFO: .workspace/zurich/input/invalid/20240227211852054.json processed correctly. \u001b[0m\n",
      "\n",
      "\u001b[33m => [Running metrics tests for metrics/dotnet] ... \u001b[0m\n",
      "Processing ./assets/zurich-validation/start-shift-total-count/0-start-shift-good-counter.json\n",
      "Processing ./assets/zurich-validation/start-shift-total-count/1-start-shift-defect-counter.json\n",
      "Processing ./assets/zurich-validation/total-counter/total-count-1/good-counter-1.json\n",
      "\u001b[0;34m Current count: 18602 \u001b[0m\n",
      "Processing ./assets/zurich-validation/start-shift-total-count/0-start-shift-good-counter.json\n",
      "Processing ./assets/zurich-validation/start-shift-total-count/1-start-shift-defect-counter.json\n",
      "Processing ./assets/zurich-validation/total-counter/total-count-250-multiple-shifts/0-defect-counter-60.json\n",
      "Processing ./assets/zurich-validation/total-counter/total-count-250-multiple-shifts/1-good-counter-40.json\n",
      "Processing ./assets/zurich-validation/total-counter/total-count-250-multiple-shifts/2-start-shift-good-counter.json\n",
      "Processing ./assets/zurich-validation/total-counter/total-count-250-multiple-shifts/3-start-shift-defect-counter.json\n",
      "Processing ./assets/zurich-validation/total-counter/total-count-250-multiple-shifts/4-good-counter-30.json\n",
      "Processing ./assets/zurich-validation/total-counter/total-count-250-multiple-shifts/5-defect-counter-70.json\n",
      "Processing ./assets/zurich-validation/total-counter/total-count-250-multiple-shifts/6-defect-counter-100.json\n",
      "Processing ./assets/zurich-validation/total-counter/total-count-250-multiple-shifts/7-good-counter-50.json\n",
      "\u001b[32m INFO: 20240227212006305.json contains expected value of 18852. \u001b[0m\n",
      "Processing ./assets/zurich-validation/machine-status/Fault/Fault-true.json\n",
      "Processing ./assets/zurich-validation/machine-status/Fault/Fault-false.json\n",
      "\u001b[31m ERROR:  contains unexpected value of . Expected: 0. \u001b[0m\n",
      "Processing ./assets/zurich-validation/machine-status/automatic/Fault-false.json\n",
      "Processing ./assets/zurich-validation/machine-status/automatic/automatic-true.json\n",
      "Processing ./assets/zurich-validation/machine-status/automatic/Fault-false.json\n",
      "Processing ./assets/zurich-validation/machine-status/automatic/idle-false.json\n",
      "Processing ./assets/zurich-validation/machine-status/automatic/manual-false.json\n",
      "\u001b[32m INFO: 20240227212009375.json contains expected value of 1. \u001b[0m\n",
      "Processing ./assets/zurich-validation/machine-status/Fault/Fault-true.json\n",
      "\u001b[32m INFO: 20240227212014443.json contains expected value of 0. \u001b[0m\n",
      "Processing ./assets/zurich-validation/machine-status/idle/Fault-false.json\n",
      "Processing ./assets/zurich-validation/machine-status/idle/Fault-false.json\n",
      "Processing ./assets/zurich-validation/machine-status/idle/idle-true.json\n",
      "\u001b[32m INFO: 20240227212017483.json contains expected value of 3. \u001b[0m\n",
      "Processing ./assets/zurich-validation/machine-status/manual/Fault-false.json\n",
      "Processing ./assets/zurich-validation/machine-status/manual/automatic-false.json\n",
      "Processing ./assets/zurich-validation/machine-status/manual/Fault-false.json\n",
      "Processing ./assets/zurich-validation/machine-status/manual/idle-false.json\n",
      "Processing ./assets/zurich-validation/machine-status/manual/manual-true.json\n",
      "\u001b[32m INFO: 20240227212022542.json contains expected value of 2. \u001b[0m\n",
      "Processing ./assets/zurich-validation/machine-status/unknown/Fault-false.json\n",
      "Processing ./assets/zurich-validation/machine-status/unknown/automatic-false.json\n",
      "Processing ./assets/zurich-validation/machine-status/unknown/Fault-false.json\n",
      "Processing ./assets/zurich-validation/machine-status/unknown/idle-false.json\n",
      "Processing ./assets/zurich-validation/machine-status/unknown/manual-false.json\n",
      "\u001b[32m INFO: 20240227212027599.json contains expected value of 99. \u001b[0m\n",
      "\n",
      "\u001b[33m => [Running metrics tests for metrics/aio] ... \u001b[0m\n",
      "Processing ./assets/zurich-validation/start-shift-total-count/0-start-shift-good-counter.json\n",
      "Processing ./assets/zurich-validation/start-shift-total-count/1-start-shift-defect-counter.json\n",
      "Processing ./assets/zurich-validation/total-counter/total-count-1/good-counter-1.json\n",
      "\u001b[0;34m Current count: 33740 \u001b[0m\n",
      "Processing ./assets/zurich-validation/start-shift-total-count/0-start-shift-good-counter.json\n",
      "Processing ./assets/zurich-validation/start-shift-total-count/1-start-shift-defect-counter.json\n",
      "Processing ./assets/zurich-validation/total-counter/total-count-250-multiple-shifts/0-defect-counter-60.json\n",
      "Processing ./assets/zurich-validation/total-counter/total-count-250-multiple-shifts/1-good-counter-40.json\n",
      "Processing ./assets/zurich-validation/total-counter/total-count-250-multiple-shifts/2-start-shift-good-counter.json\n",
      "Processing ./assets/zurich-validation/total-counter/total-count-250-multiple-shifts/3-start-shift-defect-counter.json\n",
      "Processing ./assets/zurich-validation/total-counter/total-count-250-multiple-shifts/4-good-counter-30.json\n",
      "Processing ./assets/zurich-validation/total-counter/total-count-250-multiple-shifts/5-defect-counter-70.json\n",
      "Processing ./assets/zurich-validation/total-counter/total-count-250-multiple-shifts/6-defect-counter-100.json\n",
      "Processing ./assets/zurich-validation/total-counter/total-count-250-multiple-shifts/7-good-counter-50.json\n",
      "\u001b[32m INFO: 20240227212134744.json contains expected value of 33990. \u001b[0m\n",
      "Processing ./assets/zurich-validation/machine-status/Fault/Fault-true.json\n",
      "Processing ./assets/zurich-validation/machine-status/Fault/Fault-false.json\n",
      "\u001b[32m INFO: 20240227212136789.json contains expected value of 0. \u001b[0m\n",
      "Processing ./assets/zurich-validation/machine-status/automatic/Fault-false.json\n",
      "Processing ./assets/zurich-validation/machine-status/automatic/automatic-true.json\n",
      "Processing ./assets/zurich-validation/machine-status/automatic/Fault-false.json\n",
      "Processing ./assets/zurich-validation/machine-status/automatic/idle-false.json\n",
      "Processing ./assets/zurich-validation/machine-status/automatic/manual-false.json\n",
      "\u001b[32m INFO: 20240227212141835.json contains expected value of 1. \u001b[0m\n",
      "Processing ./assets/zurich-validation/machine-status/Fault/Fault-true.json\n",
      "\u001b[32m INFO: 20240227212142944.json contains expected value of 0. \u001b[0m\n",
      "Processing ./assets/zurich-validation/machine-status/idle/Fault-false.json\n",
      "Processing ./assets/zurich-validation/machine-status/idle/Fault-false.json\n",
      "Processing ./assets/zurich-validation/machine-status/idle/idle-true.json\n",
      "\u001b[32m INFO: 20240227212145956.json contains expected value of 3. \u001b[0m\n",
      "Processing ./assets/zurich-validation/machine-status/manual/Fault-false.json\n",
      "Processing ./assets/zurich-validation/machine-status/manual/automatic-false.json\n",
      "Processing ./assets/zurich-validation/machine-status/manual/Fault-false.json\n",
      "Processing ./assets/zurich-validation/machine-status/manual/idle-false.json\n",
      "Processing ./assets/zurich-validation/machine-status/manual/manual-true.json\n",
      "\u001b[32m INFO: 20240227212151011.json contains expected value of 2. \u001b[0m\n",
      "Processing ./assets/zurich-validation/machine-status/unknown/Fault-false.json\n",
      "Processing ./assets/zurich-validation/machine-status/unknown/automatic-false.json\n",
      "Processing ./assets/zurich-validation/machine-status/unknown/Fault-false.json\n",
      "Processing ./assets/zurich-validation/machine-status/unknown/idle-false.json\n",
      "Processing ./assets/zurich-validation/machine-status/unknown/manual-false.json\n",
      "\u001b[32m INFO: 20240227212156072.json contains expected value of 99. \u001b[0m\n"
     ]
    }
   ],
   "source": [
    "# to run full integration tests\n",
    "./run-zurich-validation.sh"
   ]
  },
  {
   "cell_type": "markdown",
   "metadata": {},
   "source": [
    "## Running the Tests\n",
    "Change the notebook environment to the `test/integration` directory."
   ]
  },
  {
   "cell_type": "code",
   "execution_count": 5,
   "metadata": {
    "vscode": {
     "languageId": "shellscript"
    }
   },
   "outputs": [],
   "source": [
    "cd /workspaces/aio-evaluation/test/integration/"
   ]
  },
  {
   "cell_type": "markdown",
   "metadata": {},
   "source": [
    "This first section sets up the test environment and creates the watchers needed to run the tests. \n",
    "\n",
    "Once this is run you should see a new directory called `.workspace` which contains the `logs`, `metrics`, and `zurich` directories with the various outputs in json files. The `logs` directory contains the logs for the tests, the `metrics` directory contains the machine status and total counter topic outputs, and the `zurich` directory contains the input and processed input json files for the tests."
   ]
  },
  {
   "cell_type": "code",
   "execution_count": 6,
   "metadata": {
    "vscode": {
     "languageId": "shellscript"
    }
   },
   "outputs": [
    {
     "name": "stdout",
     "output_type": "stream",
     "text": [
      "\u001b[0;34m => Running input watcher on zurich/input \u001b[0m\n",
      "[7] 275719\n",
      "Setting up watches.\n",
      "Watches established.\n",
      "[7] 275719\n",
      "Setting up watches.\n",
      "Watches established.\n",
      "\u001b[0;34m => Running output watcher on metrics/aio/total-count \u001b[0m\n",
      "[8] 275734\n",
      "\u001b[0;34m => Running output watcher on zurich/input/valid \u001b[0m\n",
      "[9] 275735\n",
      "\u001b[0;34m => Running output watcher on metrics/aio/machine-status \u001b[0m\n",
      "[10] 275736\n",
      "\u001b[0;34m => Running output watcher on zurich/input/invalid \u001b[0m\n",
      "[11] 275737\n",
      "\u001b[0;34m => Running output watcher on zurich/debug \u001b[0m\n",
      "[12] 275738\n"
     ]
    }
   ],
   "source": [
    "#!/bin/bash\n",
    "\n",
    ". ../utils/set-colors.sh\n",
    ". ../utils/create-workspace.sh\n",
    ". ./data-feeder/run-input-watchers.sh\n",
    ". ./data-feeder/run-output-watchers.sh\n",
    ". ./validations/validate-data.sh\n",
    ". ./validations/validate-machine-status.sh\n",
    ". ./validations/validate-total-counter.sh\n",
    "\n",
    "declare -A topics_and_logs\n",
    "topics_and_logs=(\n",
    "  [\"zurich/input/valid\"]=\"zurich-valid.log\"\n",
    "  [\"zurich/input/invalid\"]=\"zurich-invalid.log\"\n",
    "  [\"zurich/debug\"]=\"zurich-debug.log\"\n",
    "  [\"metrics/aio/machine-status\"]=\"zurich-aio-machine-status.log\"\n",
    "  [\"metrics/aio/total-count\"]=\"zurich-aio-total-count.log\"\n",
    ")\n",
    "\n",
    "WORKSPACE=\".workspace\"\n",
    "INPUT_TOPIC=\"zurich/input\"\n",
    "AIO_METRICS_TOPIC=\"metrics/aio\"\n",
    "\n",
    "create_workspace $WORKSPACE\n",
    "run_input_watcher $INPUT_TOPIC\n",
    "run_output_watchers"
   ]
  },
  {
   "cell_type": "markdown",
   "metadata": {},
   "source": [
    "Next we will run the `validate-data` test. This will iterate over the input files in the `/assets/zurich-validation/data-validation` directory and validate the data. We have 2 types of inputs: `valid-*.json` and `invalid-*.json`. The `valid-*.json` files are correct input payloads and should pass the validation. The `invalid-*.json` files should fail the validation based on various issues with the payload."
   ]
  },
  {
   "cell_type": "code",
   "execution_count": 4,
   "metadata": {
    "vscode": {
     "languageId": "shellscript"
    }
   },
   "outputs": [
    {
     "name": "stdout",
     "output_type": "stream",
     "text": [
      "Processing ./assets/zurich-validation/data-validation/invalid/invalid-empty-payload.json\n",
      "Processing ./assets/zurich-validation/data-validation/invalid/invalid-messy-payload-01.json\n",
      "Processing ./assets/zurich-validation/data-validation/invalid/invalid-messy-payload-02.json\n",
      "Processing ./assets/zurich-validation/data-validation/invalid/invalid-messy-payload-01.json\n",
      "Processing ./assets/zurich-validation/data-validation/invalid/invalid-messy-payload-02.json\n",
      "Processing ./assets/zurich-validation/data-validation/invalid/invalid-missing-messageType.json\n",
      "Processing ./assets/zurich-validation/data-validation/invalid/invalid-type-messageType.json\n",
      "Processing ./assets/zurich-validation/data-validation/valid/valid-01.json\n",
      "Processing ./assets/zurich-validation/data-validation/valid/valid-02.json\n",
      "Processing ./assets/zurich-validation/data-validation/valid/valid-03.json\n",
      "\u001b[0;34m => [EXPECTED] Valid: 3, Invalid: 5 \u001b[0m\n",
      "\u001b[0;34m => Waiting for processing [8 seconds] ... \u001b[0m\n",
      "\n",
      "\u001b[0;34m => [TEST RESULTS] \u001b[0m\n",
      "\n",
      "\u001b[32m INFO: 3 messages found \u001b[0m\n",
      "\u001b[32m INFO: .workspace/zurich/input/valid/20240227210004027.json processed correctly. \u001b[0m\n",
      "\u001b[32m INFO: .workspace/zurich/input/valid/20240227210004057.json processed correctly. \u001b[0m\n",
      "\u001b[32m INFO: .workspace/zurich/input/valid/20240227210004092.json processed correctly. \u001b[0m\n",
      "\u001b[32m INFO: 5 messages found \u001b[0m\n",
      "\u001b[32m INFO: .workspace/zurich/input/invalid/20240227210003932.json processed correctly. \u001b[0m\n",
      "\u001b[32m INFO: .workspace/zurich/input/invalid/20240227210003965.json processed correctly. \u001b[0m\n",
      "\u001b[32m INFO: .workspace/zurich/input/invalid/20240227210004009.json processed correctly. \u001b[0m\n",
      "\u001b[32m INFO: .workspace/zurich/input/invalid/20240227210004052.json processed correctly. \u001b[0m\n",
      "\u001b[32m INFO: .workspace/zurich/input/invalid/20240227210004089.json processed correctly. \u001b[0m\n"
     ]
    }
   ],
   "source": [
    "# test for valid input data\n",
    "test_for_valid_data"
   ]
  },
  {
   "cell_type": "markdown",
   "metadata": {},
   "source": [
    "The next test is the `total-counter` test. This test will iterate over the input files in the `/assets/zurich-validation/total-counter` directory and validate the data. It will pass in various payloads to the total-counter pipeline and check the output to make sure it is correct."
   ]
  },
  {
   "cell_type": "code",
   "execution_count": 2,
   "metadata": {
    "vscode": {
     "languageId": "shellscript"
    }
   },
   "outputs": [
    {
     "name": "stdout",
     "output_type": "stream",
     "text": [
      "Processing ./assets/zurich-validation/start-shift-total-count/start-shift-good-counter-mill.json\n",
      "Processing ./assets/zurich-validation/start-shift-total-count/start-shift-defect-counter-mill.json\n",
      "Processing ./assets/zurich-validation/total-counter/total-count-1/good-counter-1-mill.json\n",
      "\u001b[0;34m Current AIO count: 1770 (from: .workspace/metrics/aio/total-count) \u001b[0m\n",
      "Processing ./assets/zurich-validation/start-shift-total-count/start-shift-good-counter-mill.json\n",
      "Processing ./assets/zurich-validation/start-shift-total-count/start-shift-defect-counter-mill.json\n",
      "Processing ./assets/zurich-validation/total-counter/total-count-150-mill/0-defect-counter-60-mill.json\n",
      "Processing ./assets/zurich-validation/total-counter/total-count-150-mill/1-defect-counter-100-oven.json\n",
      "Processing ./assets/zurich-validation/total-counter/total-count-150-mill/2-good-counter-90-mill.json\n",
      "\u001b[32m INFO: [.workspace/metrics/aio/total-count] 20240301220051074.json contains expected value of 1920. \u001b[0m\n",
      "Processing ./assets/zurich-validation/start-shift-total-count/start-shift-good-counter.json\n",
      "Processing ./assets/zurich-validation/start-shift-total-count/start-shift-defect-counter.json\n",
      "Processing ./assets/zurich-validation/total-counter/total-count-1/good-counter-1.json\n",
      "\u001b[0;34m Current AIO count: 5600 (from: .workspace/metrics/aio/total-count) \u001b[0m\n",
      "Processing ./assets/zurich-validation/start-shift-total-count/start-shift-good-counter.json\n",
      "Processing ./assets/zurich-validation/start-shift-total-count/start-shift-defect-counter.json\n",
      "Processing ./assets/zurich-validation/total-counter/total-count-250-multiple-shifts/0-defect-counter-60.json\n",
      "Processing ./assets/zurich-validation/total-counter/total-count-250-multiple-shifts/1-good-counter-40.json\n",
      "Processing ./assets/zurich-validation/total-counter/total-count-250-multiple-shifts/2-start-shift-good-counter.json\n",
      "Processing ./assets/zurich-validation/total-counter/total-count-250-multiple-shifts/3-start-shift-defect-counter.json\n",
      "Processing ./assets/zurich-validation/total-counter/total-count-250-multiple-shifts/4-good-counter-30.json\n",
      "Processing ./assets/zurich-validation/total-counter/total-count-250-multiple-shifts/5-defect-counter-70.json\n",
      "Processing ./assets/zurich-validation/total-counter/total-count-250-multiple-shifts/6-defect-counter-100.json\n",
      "Processing ./assets/zurich-validation/total-counter/total-count-250-multiple-shifts/7-good-counter-50.json\n",
      "\u001b[32m INFO: [.workspace/metrics/aio/total-count] 20240301220158212.json contains expected value of 5850. \u001b[0m\n"
     ]
    }
   ],
   "source": [
    "# test for total counter scenarios\n",
    "# Scenario 1: total count = 1\n",
    "# Scenario 4: total count = 250 with multiple shifts\n",
    "\n",
    "test_for_total_counter \"$AIO_METRICS_TOPIC\""
   ]
  },
  {
   "cell_type": "markdown",
   "metadata": {},
   "source": [
    "Finally, we will test through the various machine status scenarios. This test will iterate over the input files in the `/assets/zurich-validation/machine-status` directory and validate the data. It will pass in various payloads to the machine-status pipeline and check the output to make sure it is correct. "
   ]
  },
  {
   "cell_type": "code",
   "execution_count": 7,
   "metadata": {
    "vscode": {
     "languageId": "shellscript"
    }
   },
   "outputs": [
    {
     "name": "stdout",
     "output_type": "stream",
     "text": [
      "Processing ./assets/zurich-validation/machine-status/Fault/Fault-true.json\n",
      "Processing ./assets/zurich-validation/machine-status/Fault/Fault-false.json\n",
      "\u001b[32m INFO: [.workspace/metrics/aio/machine-status] 20240301222325485.json contains expected value of 0. \u001b[0m\n",
      "Processing ./assets/zurich-validation/machine-status/automatic/Fault-false.json\n",
      "Processing ./assets/zurich-validation/machine-status/automatic/automatic-true.json\n",
      "Processing ./assets/zurich-validation/machine-status/automatic/Fault-false.json\n",
      "Processing ./assets/zurich-validation/machine-status/automatic/idle-false.json\n",
      "Processing ./assets/zurich-validation/machine-status/automatic/manual-false.json\n",
      "\u001b[32m INFO: [.workspace/metrics/aio/machine-status] 20240301222330554.json contains expected value of 1. \u001b[0m\n",
      "Processing ./assets/zurich-validation/machine-status/Fault/Fault-true.json\n",
      "\u001b[32m INFO: [.workspace/metrics/aio/machine-status] 20240301222331593.json contains expected value of 0. \u001b[0m\n",
      "Processing ./assets/zurich-validation/machine-status/idle/Fault-false.json\n",
      "Processing ./assets/zurich-validation/machine-status/idle/Fault-false.json\n",
      "Processing ./assets/zurich-validation/machine-status/idle/idle-true.json\n",
      "\u001b[32m INFO: [.workspace/metrics/aio/machine-status] 20240301222334643.json contains expected value of 3. \u001b[0m\n",
      "Processing ./assets/zurich-validation/machine-status/manual/Fault-false.json\n",
      "Processing ./assets/zurich-validation/machine-status/manual/automatic-false.json\n",
      "Processing ./assets/zurich-validation/machine-status/manual/Fault-false.json\n",
      "Processing ./assets/zurich-validation/machine-status/manual/idle-false.json\n",
      "Processing ./assets/zurich-validation/machine-status/manual/manual-true.json\n",
      "\u001b[32m INFO: [.workspace/metrics/aio/machine-status] 20240301222339707.json contains expected value of 2. \u001b[0m\n",
      "Processing ./assets/zurich-validation/machine-status/multiple-machines/Fault-mill-false.json\n",
      "Processing ./assets/zurich-validation/machine-status/multiple-machines/Fault-mill-false.json\n",
      "Processing ./assets/zurich-validation/machine-status/multiple-machines/Fault-oven-true.json\n",
      "Processing ./assets/zurich-validation/machine-status/multiple-machines/idle-mill-true.json\n",
      "\u001b[32m INFO: [.workspace/metrics/aio/machine-status] 20240301222343766.json contains expected value of 3. \u001b[0m\n",
      "Processing ./assets/zurich-validation/machine-status/unknown/Fault-false.json\n",
      "Processing ./assets/zurich-validation/machine-status/unknown/automatic-false.json\n",
      "Processing ./assets/zurich-validation/machine-status/unknown/Fault-false.json\n",
      "Processing ./assets/zurich-validation/machine-status/unknown/idle-false.json\n",
      "Processing ./assets/zurich-validation/machine-status/unknown/manual-false.json\n",
      "\u001b[32m INFO: [.workspace/metrics/aio/machine-status] 20240301222348857.json contains expected value of 99. \u001b[0m\n"
     ]
    }
   ],
   "source": [
    "# test for machine status scenarios\n",
    "# Scenario 1: machine status = \"fault\" or 0\n",
    "# Scenario 2: machine status = \"automatic\" or 1\n",
    "# Scenario 3: machine status = \"idle\" or 3\n",
    "# Scenario 4: machine status = \"manual\" or 2\n",
    "# Scenario 5: machine status = \"maintenance\" or 99\n",
    "\n",
    "test_for_machine_status \"$AIO_METRICS_TOPIC\""
   ]
  },
  {
   "cell_type": "markdown",
   "metadata": {},
   "source": [
    "In order to rerun tests, you will need to stop background processes created from previous tests."
   ]
  },
  {
   "cell_type": "code",
   "execution_count": 6,
   "metadata": {
    "vscode": {
     "languageId": "shellscript"
    }
   },
   "outputs": [
    {
     "name": "stdout",
     "output_type": "stream",
     "text": [
      "pkill: killing pid 38855 failed: Operation not permitted\n",
      "pkill: killing pid 38937 failed: Operation not permitted\n",
      "pkill: killing pid 40605 failed: Operation not permitted\n",
      "pkill: killing pid 40827 failed: Operation not permitted\n",
      "pkill: killing pid 179398 failed: Operation not permitted\n",
      "pkill: killing pid 179399 failed: Operation not permitted\n",
      "pkill: killing pid 179443 failed: Operation not permitted\n",
      "pkill: killing pid 179446 failed: Operation not permitted\n"
     ]
    },
    {
     "ename": "",
     "evalue": "1",
     "output_type": "error",
     "traceback": []
    }
   ],
   "source": [
    "/workspaces/aio-evaluation/test/integration/clean-integration-tests.sh"
   ]
  }
 ],
 "metadata": {
  "kernelspec": {
   "display_name": "Bash",
   "language": "bash",
   "name": "bash"
  },
  "language_info": {
   "codemirror_mode": "shell",
   "file_extension": ".sh",
   "mimetype": "text/x-sh",
   "name": "bash"
  },
  "polyglot_notebook": {
   "kernelInfo": {
    "defaultKernelName": "csharp",
    "items": [
     {
      "aliases": [],
      "name": "csharp"
     }
    ]
   }
  }
 },
 "nbformat": 4,
 "nbformat_minor": 2
}
