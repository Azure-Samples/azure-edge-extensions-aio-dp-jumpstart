{
 "cells": [
  {
   "cell_type": "markdown",
   "metadata": {},
   "source": [
    "# Provisioning AIO Cluster with K3D\n",
    "\n",
    "This guide walks you through the steps to provision an Azure IoT Operations (AIO) cluster using the provided Bicep template. The Bicep template is based on the example available in an Azure IoT Operations repository.\n",
    "\n",
    "> For this notebook, when running for the first time, you may need to set the kernel. To do this click on  `Select Kernel` in the top right corner of the notebook. Click `Jupyter Kernel...` then `Bash` as the kernel.\n",
    "\n",
    "## Azure Resource Dependencies\n",
    "\n",
    "1. Azure Key Vault\n",
    "1. Azure Arc\n",
    "1. Service Principal\n",
    "\n",
    "## Prerequisites\n",
    "\n",
    "1. A running GitHub Codespace of this repository.\n",
    "1. Dev container setup with k3d cluster. Upon creation of the Codespace, a k3d cluster \"devcluster\" is already running and ready to use.\n",
    "1. **Azure Subscription**: `az login` has been executed and default subscription has been set. Ensure you have access to an Azure subscription where you can deploy resources.\n",
    "\n",
    "If required, reset your environment using the [00-clean-up.sh](./00-clean-up.sh) script, which will delete the k3d cluster and then recreate the cluster with the right image and settings. "
   ]
  },
  {
   "cell_type": "code",
   "execution_count": 2,
   "metadata": {
    "vscode": {
     "languageId": "shellscript"
    }
   },
   "outputs": [
    {
     "name": "stdout",
     "output_type": "stream",
     "text": [
      "Azure resource group 'rg-aio-86867' is being deleted\n",
      "K3D registry deleted\n",
      "\u001b[36mINFO\u001b[0m[0000] Deleting cluster 'devcluster'                \n",
      "\u001b[36mINFO\u001b[0m[0002] Deleting cluster network 'k3d-devcluster'    \n",
      "\u001b[36mINFO\u001b[0m[0002] Deleting 1 attached volumes...               \n",
      "\u001b[36mINFO\u001b[0m[0002] Removing cluster details from default kubeconfig... \n",
      "\u001b[36mINFO\u001b[0m[0002] Removing standalone kubeconfig file (if there is one)... \n",
      "\u001b[36mINFO\u001b[0m[0002] Successfully deleted cluster devcluster!     \n",
      "\u001b[36mINFO\u001b[0m[0000] Creating node 'k3d-devregistry.localhost'    \n",
      "\u001b[36mINFO\u001b[0m[0000] Successfully created registry 'k3d-devregistry.localhost' \n",
      "\u001b[36mINFO\u001b[0m[0000] Starting Node 'k3d-devregistry.localhost'    \n",
      "\u001b[36mINFO\u001b[0m[0000] Successfully created registry 'k3d-devregistry.localhost' \n",
      "# You can now use the registry like this (example):\n",
      "# 1. create a new cluster that uses this registry\n",
      "k3d cluster create --registry-use k3d-devregistry.localhost:5500\n",
      "\n",
      "# 2. tag an existing local image to be pushed to the registry\n",
      "docker tag nginx:latest k3d-devregistry.localhost:5500/mynginx:v0.1\n",
      "\n",
      "# 3. push that image to the registry\n",
      "docker push k3d-devregistry.localhost:5500/mynginx:v0.1\n",
      "\n",
      "# 4. run a pod that uses this image\n",
      "kubectl run mynginx --image k3d-devregistry.localhost:5500/mynginx:v0.1\n",
      "\n",
      "\u001b[36mINFO\u001b[0m[0000] portmapping '4000:80' targets the loadbalancer: defaulting to [servers:*:proxy agents:*:proxy] \n",
      "\u001b[36mINFO\u001b[0m[0000] portmapping '1883:1883' targets the loadbalancer: defaulting to [servers:*:proxy agents:*:proxy] \n",
      "\u001b[36mINFO\u001b[0m[0000] portmapping '8883:8883' targets the loadbalancer: defaulting to [servers:*:proxy agents:*:proxy] \n",
      "\u001b[36mINFO\u001b[0m[0000] portmapping '6001:6001' targets the loadbalancer: defaulting to [servers:*:proxy agents:*:proxy] \n",
      "\u001b[36mINFO\u001b[0m[0000] Prep: Network                                \n",
      "\u001b[36mINFO\u001b[0m[0000] Created network 'k3d-devcluster'             \n",
      "\u001b[36mINFO\u001b[0m[0000] Created image volume k3d-devcluster-images   \n",
      "\u001b[36mINFO\u001b[0m[0000] Starting new tools node...                   \n",
      "\u001b[36mINFO\u001b[0m[0000] Starting Node 'k3d-devcluster-tools'         \n",
      "\u001b[36mINFO\u001b[0m[0001] Creating node 'k3d-devcluster-server-0'      \n",
      "\u001b[36mINFO\u001b[0m[0001] Creating LoadBalancer 'k3d-devcluster-serverlb' \n",
      "\u001b[36mINFO\u001b[0m[0001] Using the k3d-tools node to gather environment information \n",
      "\u001b[36mINFO\u001b[0m[0002] HostIP: using network gateway 172.25.0.1 address \n",
      "\u001b[36mINFO\u001b[0m[0002] Starting cluster 'devcluster'                \n",
      "\u001b[36mINFO\u001b[0m[0002] Starting servers...                          \n",
      "\u001b[36mINFO\u001b[0m[0002] Starting Node 'k3d-devcluster-server-0'      \n",
      "\u001b[36mINFO\u001b[0m[0006] All agents already running.                  \n",
      "\u001b[36mINFO\u001b[0m[0006] Starting helpers...                          \n",
      "\u001b[36mINFO\u001b[0m[0006] Starting Node 'k3d-devcluster-serverlb'      \n",
      "\u001b[36mINFO\u001b[0m[0013] Injecting records for hostAliases (incl. host.k3d.internal) and for 3 network members into CoreDNS configmap... \n",
      "\u001b[36mINFO\u001b[0m[0016] Cluster 'devcluster' created successfully!   \n",
      "\u001b[36mINFO\u001b[0m[0016] You can now use it like this:                \n",
      "kubectl cluster-info\n",
      "K3D registry and cluster created again, you can now run through Readme for installation\n"
     ]
    }
   ],
   "source": [
    "./00-clean-up.sh"
   ]
  },
  {
   "cell_type": "markdown",
   "metadata": {},
   "source": [
    "## Steps\n",
    "\n",
    "### 1. Connect to Azure Arc\n",
    "Set the params as env variables. Ensure that for the parameter `LOCATION` you use one of the [supported regions](https://learn.microsoft.com/en-us/azure/iot-operations/get-started/quickstart-deploy?tabs=linux#connect-a-kubernetes-cluster-to-azure-arc).\n"
   ]
  },
  {
   "cell_type": "code",
   "execution_count": 3,
   "metadata": {
    "vscode": {
     "languageId": "shellscript"
    }
   },
   "outputs": [],
   "source": [
    "export SUFFIX=$(date +%s | cut -c6-10)\n",
    "export RESOURCE_GROUP=\"rg-aio-$SUFFIX\"\n",
    "export CLUSTER_NAME=\"mycluster\"\n",
    "export LOCATION=\"westus2\"\n",
    "export APP_NAME=\"sp-aio-$SUFFIX\""
   ]
  },
  {
   "cell_type": "markdown",
   "metadata": {},
   "source": [
    "Run the following script to connect the k3d Kubernetes cluster to Azure Arc."
   ]
  },
  {
   "cell_type": "code",
   "execution_count": 4,
   "metadata": {
    "vscode": {
     "languageId": "shellscript"
    }
   },
   "outputs": [
    {
     "name": "stdout",
     "output_type": "stream",
     "text": [
      "ARC_CUSTOMLOCATION_OID is not set. Setting it to the value of LOCATION westus2.\n"
     ]
    },
    {
     "name": "stdout",
     "output_type": "stream",
     "text": [
      "{\n",
      "  \"id\": \"/subscriptions/20d5770a-8bb2-402f-9ade-11d91cb478a2/resourceGroups/rg-aio-87554\",\n",
      "  \"location\": \"westus2\",\n",
      "  \"managedBy\": null,\n",
      "  \"name\": \"rg-aio-87554\",\n",
      "  \"properties\": {\n",
      "    \"provisioningState\": \"Succeeded\"\n",
      "  },\n",
      "  \"tags\": null,\n",
      "  \"type\": \"Microsoft.Resources/resourceGroups\"\n",
      "}\n",
      "  \"id\": \"/subscriptions/20d5770a-8bb2-402f-9ade-11d91cb478a2/resourceGroups/rg-aio-87554\",\n",
      "  \"location\": \"westus2\",\n",
      "  \"managedBy\": null,\n",
      "  \"name\": \"rg-aio-87554\",\n",
      "  \"properties\": {\n",
      "    \"provisioningState\": \"Succeeded\"\n",
      "  },\n",
      "  \"tags\": null,\n",
      "  \"type\": \"Microsoft.Resources/resourceGroups\"\n",
      "}\n",
      "E0311 20:06:13.332738  246387 memcache.go:287] couldn't get resource list for metrics.k8s.io/v1beta1: the server is currently unable to handle the request\n",
      "E0311 20:06:13.334649  246387 memcache.go:121] couldn't get resource list for metrics.k8s.io/v1beta1: the server is currently unable to handle the request\n",
      "E0311 20:06:13.338373  246387 memcache.go:121] couldn't get resource list for metrics.k8s.io/v1beta1: the server is currently unable to handle the request\n",
      "E0311 20:06:13.339938  246387 memcache.go:121] couldn't get resource list for metrics.k8s.io/v1beta1: the server is currently unable to handle the request\n",
      "NAME                      STATUS   ROLES                  AGE   VERSION\n",
      "k3d-devcluster-server-0   Ready    control-plane,master   37s   v1.25.3+k3s1\n",
      "\u001b[93mThis operation might take a while...\n",
      "\u001b[0m\n",
      "The required pre-checks for onboarding have succeeded.\n",
      "Azure resource provisioning has begun.\n",
      "\u001b[KAzure resource provisioning has finished.\n",
      "Starting to install Azure arc agents on the Kubernetes cluster.\n",
      "{\n",
      "  \"agentPublicKeyCertificate\": \"MIICCgKCAgEArrgTpmcCbGLF+ZzL5wD2/6ScyaThUf8Hat3PyJW9SnbPBuk2wwKvU7hqlfZsHOK0AXx97SfpO2zGy+RFMvUPZ5+JFEN1hxPUyYNMk5Bbj83fk5cBRktv4UA9GTYmNzz/vLF0Qein7c9uYp3S6YrOxog1bZwHf4qyC9kuWYaB3UwP5U/bkPFs+CdgprkdSjuBuM2XhenPHPAQxOW59g7gAGLuuttxKmHY4x5F8vNj9Eo2WShKWlAIYBqdpNUMICxL8HuxMdnb982JNEwyjBC92KMH5cgNIWRMo/NXeAEGFbu8D++kqT4kIptyLPpWxCYRZHFg+04Hpe1rMX/4eJO/6GRLZf6kkDVoGclfYOVCe2QiMVoPyyt7KdI4npbgJbRLAtY/jyMiSlsb2/Vu1ugTYO4OY7SfFA2vArCnCxboia1L76svgop5KyO3d4p9RRjUN2Ld626wpyNKX5S1rQNtGl93XFOXEoQdoPo3WuvA6Wy7Ff0SemY2oyMaBJqCqVvaltReCas04/lPcsoN71b3WkbI8/7A2R7sNnSGz9qpR3S8yOuDo+llT38UsabnpB0mrwskYIhhrC2jBv8+HbBepvxv2/PMbBFfsXeqFdH47S/gOKxAMbYhc28If3I3yOQAFjGIqTlZoCdELHXMMHnB9XyAG/Ujcp2Ud6P2V9KCYIcCAwEAAQ==\",\n",
      "  \"agentVersion\": null,\n",
      "  \"connectivityStatus\": \"Connecting\",\n",
      "  \"distribution\": \"k3s\",\n",
      "  \"id\": \"/subscriptions/20d5770a-8bb2-402f-9ade-11d91cb478a2/resourceGroups/rg-aio-87554/providers/Microsoft.Kubernetes/connectedClusters/mycluster\",\n",
      "  \"identity\": {\n",
      "    \"principalId\": \"d8003a83-07c1-4fad-bee9-cd03f209f7d0\",\n",
      "    \"tenantId\": \"73e50a16-9087-4bfa-9788-ee12a4ef7f2b\",\n",
      "    \"type\": \"SystemAssigned\"\n",
      "  },\n",
      "  \"infrastructure\": \"generic\",\n",
      "  \"kubernetesVersion\": null,\n",
      "  \"lastConnectivityTime\": null,\n",
      "  \"location\": \"westus2\",\n",
      "  \"managedIdentityCertificateExpirationTime\": null,\n",
      "  \"name\": \"mycluster\",\n",
      "  \"offering\": null,\n",
      "  \"provisioningState\": \"Succeeded\",\n",
      "  \"resourceGroup\": \"rg-aio-87554\",\n",
      "  \"systemData\": {\n",
      "    \"createdAt\": \"2024-03-11T20:06:33.219499+00:00\",\n",
      "    \"createdBy\": \"admin@MngEnvMCAP326983.onmicrosoft.com\",\n",
      "    \"createdByType\": \"User\",\n",
      "    \"lastModifiedAt\": \"2024-03-11T20:06:33.219499+00:00\",\n",
      "    \"lastModifiedBy\": \"admin@MngEnvMCAP326983.onmicrosoft.com\",\n",
      "    \"lastModifiedByType\": \"User\"\n",
      "  },\n",
      "  \"tags\": {},\n",
      "  \"totalCoreCount\": null,\n",
      "  \"totalNodeCount\": null,\n",
      "  \"type\": \"microsoft.kubernetes/connectedclusters\"\n",
      "}\n",
      "NAME                STATUS   AGE\n",
      "default             Active   3m21s\n",
      "kube-system         Active   3m21s\n",
      "kube-public         Active   3m21s\n",
      "kube-node-lease     Active   3m21s\n",
      "azure-arc-release   Active   2m41s\n",
      "azure-arc           Active   49s\n",
      "NAME                                              READY   STATUS    RESTARTS   AGE\n",
      "pod/flux-logs-agent-59b48bc466-8ffzh              1/1     Running   0          49s\n",
      "pod/controller-manager-dfd864b78-86nsd            2/2     Running   0          48s\n",
      "pod/resource-sync-agent-7f9dd8dd76-vfqxl          2/2     Running   0          49s\n",
      "pod/cluster-metadata-operator-5fcd8f74b-t4gfn     2/2     Running   0          48s\n",
      "pod/extension-events-collector-68b9f8c986-5n8nl   2/2     Running   0          48s\n",
      "pod/extension-manager-7fdbbf8655-scb78            3/3     Running   0          48s\n",
      "pod/metrics-agent-574c545786-rg2qp                2/2     Running   0          49s\n",
      "pod/clusteridentityoperator-6d765f866b-rz9t2      2/2     Running   0          48s\n",
      "pod/logcollector-78db4f5fc-mkkkr                  1/1     Running   0          48s\n",
      "pod/clusterconnect-agent-798f74df68-t82x8         3/3     Running   0          49s\n",
      "pod/config-agent-75945fb74c-xjl5r                 2/2     Running   0          48s\n",
      "pod/kube-aad-proxy-5cd8d6645c-vlhc5               2/2     Running   0          49s\n",
      "\n",
      "NAME                                 TYPE        CLUSTER-IP     EXTERNAL-IP   PORT(S)            AGE\n",
      "service/extension-manager-svc        ClusterIP   None           <none>        8081/TCP           49s\n",
      "service/extension-events-collector   ClusterIP   10.43.195.83   <none>        8082/TCP           49s\n",
      "service/flux-logs-agent              ClusterIP   10.43.97.140   <none>        80/TCP             49s\n",
      "service/kube-aad-proxy               ClusterIP   10.43.72.125   <none>        443/TCP,8080/TCP   49s\n",
      "service/logcollector                 ClusterIP   10.43.57.162   <none>        24224/TCP          49s\n",
      "\n",
      "NAME                                         READY   UP-TO-DATE   AVAILABLE   AGE\n",
      "deployment.apps/flux-logs-agent              1/1     1            1           49s\n",
      "deployment.apps/controller-manager           1/1     1            1           49s\n",
      "deployment.apps/resource-sync-agent          1/1     1            1           49s\n",
      "deployment.apps/cluster-metadata-operator    1/1     1            1           49s\n",
      "deployment.apps/extension-events-collector   1/1     1            1           49s\n",
      "deployment.apps/extension-manager            1/1     1            1           49s\n",
      "deployment.apps/metrics-agent                1/1     1            1           49s\n",
      "deployment.apps/clusteridentityoperator      1/1     1            1           49s\n",
      "deployment.apps/logcollector                 1/1     1            1           49s\n",
      "deployment.apps/clusterconnect-agent         1/1     1            1           49s\n",
      "deployment.apps/config-agent                 1/1     1            1           49s\n",
      "deployment.apps/kube-aad-proxy               1/1     1            1           49s\n",
      "\n",
      "NAME                                                    DESIRED   CURRENT   READY   AGE\n",
      "replicaset.apps/flux-logs-agent-59b48bc466              1         1         1       49s\n",
      "replicaset.apps/controller-manager-dfd864b78            1         1         1       49s\n",
      "replicaset.apps/resource-sync-agent-7f9dd8dd76          1         1         1       49s\n",
      "replicaset.apps/cluster-metadata-operator-5fcd8f74b     1         1         1       49s\n",
      "replicaset.apps/extension-events-collector-68b9f8c986   1         1         1       48s\n",
      "replicaset.apps/extension-manager-7fdbbf8655            1         1         1       48s\n",
      "replicaset.apps/metrics-agent-574c545786                1         1         1       49s\n",
      "replicaset.apps/clusteridentityoperator-6d765f866b      1         1         1       48s\n",
      "replicaset.apps/logcollector-78db4f5fc                  1         1         1       48s\n",
      "replicaset.apps/clusterconnect-agent-798f74df68         1         1         1       49s\n",
      "replicaset.apps/config-agent-75945fb74c                 1         1         1       48s\n",
      "replicaset.apps/kube-aad-proxy-5cd8d6645c               1         1         1       49s\n",
      "\u001b[36mThis command is in preview and under development. Reference and support levels: https://aka.ms/CLI_refstatus\u001b[0m\n",
      "\u001b[93mThis operation might take a while...\n",
      "\u001b[0m\n",
      "\"Successsfully enabled features: ['cluster-connect', 'custom-locations'] for the Connected Cluster mycluster\"\n",
      "Arc connected to cluster mycluster\n"
     ]
    }
   ],
   "source": [
    "./01-arc-connect.sh"
   ]
  },
  {
   "cell_type": "markdown",
   "metadata": {},
   "source": [
    "### 2. Create service principal\n",
    "Run the script to create a service principal. The script will save the app ID, client secret, and object Id of the created service principal in `~/.azure/servicePrincipal.json`."
   ]
  },
  {
   "cell_type": "code",
   "execution_count": 5,
   "metadata": {
    "vscode": {
     "languageId": "shellscript"
    }
   },
   "outputs": [
    {
     "name": "stdout",
     "output_type": "stream",
     "text": [
      "Creating Service Principal ...\n",
      "WARNING: Option '--sdk-auth' has been deprecated and will be removed in a future release.\n",
      "WARNING: Creating 'owner' role assignment under scope '/subscriptions/20d5770a-8bb2-402f-9ade-11d91cb478a2'\n"
     ]
    }
   ],
   "source": [
    "./02-create-sp.sh $APP_NAME"
   ]
  },
  {
   "cell_type": "markdown",
   "metadata": {},
   "source": [
    "Set the following service principal variables for the next step."
   ]
  },
  {
   "cell_type": "code",
   "execution_count": null,
   "metadata": {
    "vscode": {
     "languageId": "shellscript"
    }
   },
   "outputs": [],
   "source": [
    "export AKV_SP_CLIENT_ID=$(cat ~/.azure/servicePrincipal.json | jq -r '.clientId')\n",
    "export AKV_SP_CLIENT_SECRET=$(cat ~/.azure/servicePrincipal.json | jq -r '.clientSecret')\n",
    "export AKV_SP_OBJECT_ID=$(az ad sp show --id $AKV_SP_CLIENT_ID --query id -o tsv)"
   ]
  },
  {
   "cell_type": "markdown",
   "metadata": {},
   "source": [
    "### 3. Deploy the Bicep Template\n",
    "\n",
    "Run the following script to provision the Azure Key Vault and deploy AIO with MQ. \n",
    "\n",
    "The script automatically sets the Azure Key Vault name based on the Resource Group name you set to `$RESOURCE_GROUP` variable and a random number to prevent name conflicts.\n",
    "\n",
    "> **Note**: The deployment will take a few minutes to complete. To see the output of the `03-aio-deploy-core.sh` script, look in the `output.log` file created in the same directory."
   ]
  },
  {
   "cell_type": "code",
   "execution_count": null,
   "metadata": {
    "vscode": {
     "languageId": "shellscript"
    }
   },
   "outputs": [
    {
     "name": "stdout",
     "output_type": "stream",
     "text": [
      "Finished deploying AIO Core components\n"
     ]
    }
   ],
   "source": [
    "# Deploys the extensions and AIO core components\n",
    "./03-aio-deploy-core.sh > output.log 2>&1 && tail -n 1 output.log"
   ]
  },
  {
   "cell_type": "code",
   "execution_count": null,
   "metadata": {
    "vscode": {
     "languageId": "shellscript"
    }
   },
   "outputs": [
    {
     "name": "stdout",
     "output_type": "stream",
     "text": [
      "Deployment Name: aio-deployment-28119\n",
      "Check if AKV extension is installed\n",
      "NAME                                                        READY   STATUS      RESTARTS        AGE\n",
      "coredns-75fc8f8fff-7zvwf                                    1/1     Running     0               23m\n",
      "local-path-provisioner-5b5579c644-xksm7                     1/1     Running     0               23m\n",
      "helm-install-traefik-crd-jlc9d                              0/1     Completed   0               23m\n",
      "helm-install-traefik-k568p                                  0/1     Completed   1               23m\n",
      "svclb-traefik-ff87eaba-kq76m                                2/2     Running     0               23m\n",
      "metrics-server-5c8978b444-rjhvv                             1/1     Running     0               23m\n",
      "traefik-9c6dc6686-qqrvq                                     1/1     Running     0               23m\n",
      "akvsecretsprovider-csi-secrets-store-provider-azure-mss22   1/1     Running     0               2m30s\n",
      "secrets-store-csi-driver-6bcd6                              3/3     Running     0               2m30s\n",
      "akvsecretsprovider-arc-monitoring-76f5fb68-svhm2            6/6     Running     1 (2m25s ago)   2m30s\n"
     ]
    },
    {
     "name": "stdout",
     "output_type": "stream",
     "text": [
      "\u001b[K{\\ Finished .. ..\n",
      "  \"id\": \"/subscriptions/20d5770a-8bb2-402f-9ade-11d91cb478a2/resourceGroups/rg-aio-84619/providers/Microsoft.Resources/deployments/aio-deployment-28119\",\n",
      "  \"location\": null,\n",
      "  \"name\": \"aio-deployment-28119\",\n",
      "  \"properties\": {\n",
      "    \"correlationId\": \"008667c3-b981-44ae-b934-7179f9d0daac\",\n",
      "    \"debugSetting\": null,\n",
      "    \"dependencies\": [],\n",
      "    \"duration\": \"PT5M46.5687573S\",\n",
      "    \"error\": null,\n",
      "    \"mode\": \"Incremental\",\n",
      "    \"onErrorDeployment\": null,\n",
      "    \"outputResources\": [\n",
      "      {\n",
      "        \"id\": \"/subscriptions/20d5770a-8bb2-402f-9ade-11d91cb478a2/resourceGroups/rg-aio-84619/providers/Microsoft.ExtendedLocation/customLocations/mycluster-cl\",\n",
      "        \"resourceGroup\": \"rg-aio-84619\"\n",
      "      },\n",
      "      {\n",
      "        \"id\": \"/subscriptions/20d5770a-8bb2-402f-9ade-11d91cb478a2/resourceGroups/rg-aio-84619/providers/Microsoft.ExtendedLocation/customLocations/mycluster-cl/resourceSyncRules/mycluster-cl-adr-sync\",\n",
      "        \"resourceGroup\": \"rg-aio-84619\"\n",
      "      },\n",
      "      {\n",
      "        \"id\": \"/subscriptions/20d5770a-8bb2-402f-9ade-11d91cb478a2/resourceGroups/rg-aio-84619/providers/Microsoft.ExtendedLocation/customLocations/mycluster-cl/resourceSyncRules/mycluster-cl-aio-sync\",\n",
      "        \"resourceGroup\": \"rg-aio-84619\"\n",
      "      },\n",
      "      {\n",
      "        \"id\": \"/subscriptions/20d5770a-8bb2-402f-9ade-11d91cb478a2/resourceGroups/rg-aio-84619/providers/Microsoft.ExtendedLocation/customLocations/mycluster-cl/resourceSyncRules/mycluster-cl-dp-sync\",\n",
      "        \"resourceGroup\": \"rg-aio-84619\"\n",
      "      },\n",
      "      {\n",
      "        \"id\": \"/subscriptions/20d5770a-8bb2-402f-9ade-11d91cb478a2/resourceGroups/rg-aio-84619/providers/Microsoft.ExtendedLocation/customLocations/mycluster-cl/resourceSyncRules/mycluster-cl-mq-sync\",\n",
      "        \"resourceGroup\": \"rg-aio-84619\"\n",
      "      },\n",
      "      {\n",
      "        \"id\": \"/subscriptions/20d5770a-8bb2-402f-9ade-11d91cb478a2/resourceGroups/rg-aio-84619/providers/Microsoft.IoTOperationsDataProcessor/instances/mycluster-processor\",\n",
      "        \"resourceGroup\": \"rg-aio-84619\"\n",
      "      },\n",
      "      {\n",
      "        \"id\": \"/subscriptions/20d5770a-8bb2-402f-9ade-11d91cb478a2/resourceGroups/rg-aio-84619/providers/Microsoft.IoTOperationsOrchestrator/targets/mycluster-target\",\n",
      "        \"resourceGroup\": \"rg-aio-84619\"\n",
      "      },\n",
      "      {\n",
      "        \"id\": \"/subscriptions/20d5770a-8bb2-402f-9ade-11d91cb478a2/resourceGroups/rg-aio-84619/providers/Microsoft.Kubernetes/connectedClusters/mycluster/providers/Microsoft.KubernetesConfiguration/extensions/assets\",\n",
      "        \"resourceGroup\": \"rg-aio-84619\"\n",
      "      },\n",
      "      {\n",
      "        \"id\": \"/subscriptions/20d5770a-8bb2-402f-9ade-11d91cb478a2/resourceGroups/rg-aio-84619/providers/Microsoft.Kubernetes/connectedClusters/mycluster/providers/Microsoft.KubernetesConfiguration/extensions/azure-iot-operations\",\n",
      "        \"resourceGroup\": \"rg-aio-84619\"\n",
      "      },\n",
      "      {\n",
      "        \"id\": \"/subscriptions/20d5770a-8bb2-402f-9ade-11d91cb478a2/resourceGroups/rg-aio-84619/providers/Microsoft.Kubernetes/connectedClusters/mycluster/providers/Microsoft.KubernetesConfiguration/extensions/dapr\",\n",
      "        \"resourceGroup\": \"rg-aio-84619\"\n",
      "      },\n",
      "      {\n",
      "        \"id\": \"/subscriptions/20d5770a-8bb2-402f-9ade-11d91cb478a2/resourceGroups/rg-aio-84619/providers/Microsoft.Kubernetes/connectedClusters/mycluster/providers/Microsoft.KubernetesConfiguration/extensions/layered-networking\",\n",
      "        \"resourceGroup\": \"rg-aio-84619\"\n",
      "      },\n",
      "      {\n",
      "        \"id\": \"/subscriptions/20d5770a-8bb2-402f-9ade-11d91cb478a2/resourceGroups/rg-aio-84619/providers/Microsoft.Kubernetes/connectedClusters/mycluster/providers/Microsoft.KubernetesConfiguration/extensions/mq\",\n",
      "        \"resourceGroup\": \"rg-aio-84619\"\n",
      "      },\n",
      "      {\n",
      "        \"id\": \"/subscriptions/20d5770a-8bb2-402f-9ade-11d91cb478a2/resourceGroups/rg-aio-84619/providers/Microsoft.Kubernetes/connectedClusters/mycluster/providers/Microsoft.KubernetesConfiguration/extensions/processor\",\n",
      "        \"resourceGroup\": \"rg-aio-84619\"\n",
      "      }\n",
      "    ],\n",
      "    \"outputs\": null,\n",
      "    \"parameters\": {\n",
      "      \"clusterLocation\": {\n",
      "        \"type\": \"String\",\n",
      "        \"value\": \"westus2\"\n",
      "      },\n",
      "      \"clusterName\": {\n",
      "        \"type\": \"String\",\n",
      "        \"value\": \"mycluster\"\n",
      "      },\n",
      "      \"deploymentName\": {\n",
      "        \"type\": \"String\",\n",
      "        \"value\": \"aio-rg-aio-84619\"\n",
      "      },\n",
      "      \"hash\": {\n",
      "        \"type\": \"String\",\n",
      "        \"value\": \"20240311193704\"\n",
      "      },\n",
      "      \"location\": {\n",
      "        \"type\": \"String\",\n",
      "        \"value\": \"westus2\"\n",
      "      },\n",
      "      \"resourceGroup\": {\n",
      "        \"type\": \"String\",\n",
      "        \"value\": \"rg-aio-84619\"\n",
      "      },\n",
      "      \"subscriptionId\": {\n",
      "        \"type\": \"String\",\n",
      "        \"value\": \"20d5770a-8bb2-402f-9ade-11d91cb478a2\"\n",
      "      }\n",
      "    },\n",
      "    \"parametersLink\": null,\n",
      "    \"providers\": [\n",
      "      {\n",
      "        \"id\": null,\n",
      "        \"namespace\": \"Microsoft.Resources\",\n",
      "        \"providerAuthorizationConsentState\": null,\n",
      "        \"registrationPolicy\": null,\n",
      "        \"registrationState\": null,\n",
      "        \"resourceTypes\": [\n",
      "          {\n",
      "            \"aliases\": null,\n",
      "            \"apiProfiles\": null,\n",
      "            \"apiVersions\": null,\n",
      "            \"capabilities\": null,\n",
      "            \"defaultApiVersion\": null,\n",
      "            \"locationMappings\": null,\n",
      "            \"locations\": [\n",
      "              null\n",
      "            ],\n",
      "            \"properties\": null,\n",
      "            \"resourceType\": \"deployments\",\n",
      "            \"zoneMappings\": null\n",
      "          }\n",
      "        ]\n",
      "      }\n",
      "    ],\n",
      "    \"provisioningState\": \"Succeeded\",\n",
      "    \"templateHash\": \"10197529108884445552\",\n",
      "    \"templateLink\": null,\n",
      "    \"timestamp\": \"2024-03-11T19:42:51.697433+00:00\",\n",
      "    \"validatedResources\": null\n",
      "  },\n",
      "  \"resourceGroup\": \"rg-aio-84619\",\n",
      "  \"tags\": null,\n",
      "  \"type\": \"Microsoft.Resources/deployments\"\n",
      "}\n",
      "\u001b[32mCommand ran in 366.177 seconds (init: 0.156, invoke: 366.020)\u001b[0m\n",
      "Finished deploying AIO components\n"
     ]
    }
   ],
   "source": [
    "# Deploys the AIO CRDs\n",
    "./04-aio-deploy-bicep.sh"
   ]
  },
  {
   "cell_type": "code",
   "execution_count": null,
   "metadata": {
    "vscode": {
     "languageId": "shellscript"
    }
   },
   "outputs": [
    {
     "name": "stdout",
     "output_type": "stream",
     "text": [
      "Context \"k3d-devcluster\" modified.\n",
      "issuer.cert-manager.io/mq-dmqtt-frontend created\n",
      "broker.mq.iotoperations.azure.com/mq-instance-broker created\n",
      "diagnosticservice.mq.iotoperations.azure.com/mq-instance-diagnostics-service created\n",
      "brokerlistener.mq.iotoperations.azure.com/mq-tls-listener created\n",
      "brokerlistener.mq.iotoperations.azure.com/az-mqtt-non-tls-listener created\n",
      "NAME                 MODE          FRONTENDS   BACKEND CHAINS   MEMORY PROFILE   AGE   STATUS   STATUS DESCRIPTION\n",
      "mq-instance-broker   distributed   2           2                tiny             0s             \n",
      "Checking for running status of broker named 'mq-instance-broker'\n",
      "broker.mq.iotoperations.azure.com/mq-instance-broker condition met\n",
      "Checking for provisioning status of data processor instance named 'mycluster-processor'\n",
      "instance.dataprocessor.iotoperations.azure.com/mycluster-processor condition met\n",
      "Finished deploying AIO\n"
     ]
    }
   ],
   "source": [
    "# Deploys the AIO MQTT Broker\n",
    "./05-aio-deploy-manifests.sh"
   ]
  },
  {
   "cell_type": "markdown",
   "metadata": {},
   "source": [
    "### 4. Verify Deployment\n",
    "\n",
    "Once the deployment is complete, you can verify the following k8s extensions in your cluster are in the Azure Portal with the status `Succeeded`:\n",
    "\n",
    "- azure-iot-operations\n",
    "- mq\n",
    "\n",
    "You can also run the following script to validate the extensions were installed successfully."
   ]
  },
  {
   "cell_type": "code",
   "execution_count": null,
   "metadata": {
    "vscode": {
     "languageId": "shellscript"
    }
   },
   "outputs": [],
   "source": [
    "./07-validate-extensions.sh"
   ]
  },
  {
   "cell_type": "markdown",
   "metadata": {},
   "source": [
    "### 5. Setup the observability stack (optional)\n",
    "\n",
    "The observability stack is a set of Azure resources including Azure Monitor, Grafana, and Prometheus connections to the cluster to gather cluster insights, traces and metrics. Run the following script from the provisioning folder:"
   ]
  },
  {
   "cell_type": "code",
   "execution_count": null,
   "metadata": {
    "vscode": {
     "languageId": "shellscript"
    }
   },
   "outputs": [
    {
     "name": "stdout",
     "output_type": "stream",
     "text": [
      "== Enabling observability ==\n",
      "\u001b[36mCommand group 'config' is experimental and under development. Reference and support levels: https://aka.ms/CLI_refstatus\u001b[0m\n",
      "Creating an Azure Monitor Logs Analytics Workspace ...\n",
      "{\n",
      "  \"accountId\": \"8a0789fd-29ae-4787-b9a7-7e6f24fe9329\",\n",
      "  \"defaultIngestionSettings\": {\n",
      "    \"dataCollectionEndpointResourceId\": \"/subscriptions/20d5770a-8bb2-402f-9ade-11d91cb478a2/resourceGroups/MA_monitor-mycluster_westus2_managed/providers/Microsoft.Insights/dataCollectionEndpoints/monitor-mycluster\",\n",
      "    \"dataCollectionRuleResourceId\": \"/subscriptions/20d5770a-8bb2-402f-9ade-11d91cb478a2/resourceGroups/MA_monitor-mycluster_westus2_managed/providers/Microsoft.Insights/dataCollectionRules/monitor-mycluster\"\n",
      "  },\n",
      "  \"etag\": \"\\\"bf02ec8c-0000-0800-0000-65ef495e0000\\\"\",\n",
      "  \"id\": \"/subscriptions/20d5770a-8bb2-402f-9ade-11d91cb478a2/resourcegroups/rg-aio-031124/providers/microsoft.monitor/accounts/monitor-mycluster\",\n",
      "  \"location\": \"westus2\",\n",
      "  \"metrics\": {\n",
      "    \"internalId\": \"mac_8a0789fd-29ae-4787-b9a7-7e6f24fe9329\",\n",
      "    \"prometheusQueryEndpoint\": \"https://monitor-mycluster-h9tf.westus2.prometheus.monitor.azure.com\"\n",
      "  },\n",
      "  \"name\": \"monitor-mycluster\",\n",
      "  \"provisioningState\": \"Succeeded\",\n",
      "  \"publicNetworkAccess\": \"Enabled\",\n",
      "  \"resourceGroup\": \"rg-aio-031124\",\n",
      "  \"systemData\": {\n",
      "    \"createdAt\": \"2024-03-11T18:11:32.6368721Z\",\n",
      "    \"createdBy\": \"admin@MngEnvMCAP326983.onmicrosoft.com\",\n",
      "    \"createdByType\": \"User\",\n",
      "    \"lastModifiedAt\": \"2024-03-11T18:11:32.6368721Z\",\n",
      "    \"lastModifiedBy\": \"admin@MngEnvMCAP326983.onmicrosoft.com\",\n",
      "    \"lastModifiedByType\": \"User\"\n",
      "  },\n",
      "  \"type\": \"Microsoft.Monitor/accounts\"\n",
      "}\n",
      "Prometheus endpoint: https://monitor-mycluster-h9tf.westus2.prometheus.monitor.azure.com\n",
      "Enabling prometheus metrics collection ...\n",
      "Registering microsoft.monitor RP for the subscription 20d5770a-8bb2-402f-9ade-11d91cb478a2\n",
      "Registering microsoft.dashboard RP for the subscription 20d5770a-8bb2-402f-9ade-11d91cb478a2\n",
      "Using Azure Monitor Workspace (stores prometheus metrics) : /subscriptions/20d5770a-8bb2-402f-9ade-11d91cb478a2/resourcegroups/rg-aio-031124/providers/microsoft.monitor/accounts/monitor-mycluster\n",
      "\u001b[K{\\ Finished ..\n",
      "  \"aksAssignedIdentity\": null,\n",
      "  \"autoUpgradeMinorVersion\": true,\n",
      "  \"configurationProtectedSettings\": {},\n",
      "  \"configurationSettings\": {\n",
      "    \"azure-monitor-workspace-resource-id\": \"/subscriptions/20d5770a-8bb2-402f-9ade-11d91cb478a2/resourcegroups/rg-aio-031124/providers/microsoft.monitor/accounts/monitor-mycluster\"\n",
      "  },\n",
      "  \"currentVersion\": \"6.8.3-main-01-09-2024-a192d342\",\n",
      "  \"customLocationSettings\": null,\n",
      "  \"errorInfo\": null,\n",
      "  \"extensionType\": \"microsoft.azuremonitor.containers.metrics\",\n",
      "  \"id\": \"/subscriptions/20d5770a-8bb2-402f-9ade-11d91cb478a2/resourceGroups/rg-aio-031124/providers/Microsoft.Kubernetes/connectedClusters/mycluster/providers/Microsoft.KubernetesConfiguration/extensions/azuremonitor-metrics\",\n",
      "  \"identity\": {\n",
      "    \"principalId\": \"c7eccbc5-6b31-47f1-a9bb-f8f457cff747\",\n",
      "    \"tenantId\": null,\n",
      "    \"type\": \"SystemAssigned\"\n",
      "  },\n",
      "  \"isSystemExtension\": false,\n",
      "  \"name\": \"azuremonitor-metrics\",\n",
      "  \"packageUri\": null,\n",
      "  \"plan\": null,\n",
      "  \"provisioningState\": \"Succeeded\",\n",
      "  \"releaseTrain\": \"stable\",\n",
      "  \"resourceGroup\": \"rg-aio-031124\",\n",
      "  \"scope\": {\n",
      "    \"cluster\": {\n",
      "      \"releaseNamespace\": \"kube-system\"\n",
      "    },\n",
      "    \"namespace\": null\n",
      "  },\n",
      "  \"statuses\": [],\n",
      "  \"systemData\": {\n",
      "    \"createdAt\": \"2024-03-11T18:12:00.956421+00:00\",\n",
      "    \"createdBy\": null,\n",
      "    \"createdByType\": null,\n",
      "    \"lastModifiedAt\": \"2024-03-11T18:12:00.956421+00:00\",\n",
      "    \"lastModifiedBy\": null,\n",
      "    \"lastModifiedByType\": null\n",
      "  },\n",
      "  \"type\": \"Microsoft.KubernetesConfiguration/extensions\",\n",
      "  \"version\": null\n",
      "}\n",
      "Enabling container insights ...\n",
      "\u001b[93mIgnoring name, release-namespace and scope parameters since microsoft.azuremonitor.containers only supports cluster scope and single instance of this extension.\u001b[0m\n",
      "\u001b[93mDefaulting to extension name 'azuremonitor-containers' and release-namespace 'azuremonitor-containers'\u001b[0m\n",
      "\u001b[K{| Finished ..\n",
      "  \"aksAssignedIdentity\": null,\n",
      "  \"autoUpgradeMinorVersion\": true,\n",
      "  \"configurationProtectedSettings\": {\n",
      "    \"amalogs.secret.key\": \"\",\n",
      "    \"amalogs.secret.wsid\": \"\",\n",
      "    \"omsagent.secret.key\": \"\",\n",
      "    \"omsagent.secret.wsid\": \"\"\n",
      "  },\n",
      "  \"configurationSettings\": {\n",
      "    \"amalogs.useAADAuth\": \"true\",\n",
      "    \"azure-monitor-workspace-resource-id\": \"/subscriptions/20d5770a-8bb2-402f-9ade-11d91cb478a2/resourcegroups/rg-aio-031124/providers/microsoft.monitor/accounts/monitor-mycluster\",\n",
      "    \"logAnalyticsWorkspaceResourceID\": \"/subscriptions/20d5770a-8bb2-402f-9ade-11d91cb478a2/resourceGroups/DefaultResourceGroup-WUS2/providers/Microsoft.OperationalInsights/workspaces/DefaultWorkspace-20d5770a-8bb2-402f-9ade-11d91cb478a2-WUS2\"\n",
      "  },\n",
      "  \"currentVersion\": \"3.1.17\",\n",
      "  \"customLocationSettings\": null,\n",
      "  \"errorInfo\": null,\n",
      "  \"extensionType\": \"microsoft.azuremonitor.containers\",\n",
      "  \"id\": \"/subscriptions/20d5770a-8bb2-402f-9ade-11d91cb478a2/resourceGroups/rg-aio-031124/providers/Microsoft.Kubernetes/connectedClusters/mycluster/providers/Microsoft.KubernetesConfiguration/extensions/azuremonitor-containers\",\n",
      "  \"identity\": {\n",
      "    \"principalId\": \"a58ff74e-e009-435f-b70d-65c11abbc073\",\n",
      "    \"tenantId\": null,\n",
      "    \"type\": \"SystemAssigned\"\n",
      "  },\n",
      "  \"isSystemExtension\": false,\n",
      "  \"name\": \"azuremonitor-containers\",\n",
      "  \"packageUri\": null,\n",
      "  \"plan\": null,\n",
      "  \"provisioningState\": \"Succeeded\",\n",
      "  \"releaseTrain\": \"Stable\",\n",
      "  \"resourceGroup\": \"rg-aio-031124\",\n",
      "  \"scope\": {\n",
      "    \"cluster\": {\n",
      "      \"releaseNamespace\": \"azuremonitor-containers\"\n",
      "    },\n",
      "    \"namespace\": null\n",
      "  },\n",
      "  \"statuses\": [],\n",
      "  \"systemData\": {\n",
      "    \"createdAt\": \"2024-03-11T18:13:14.699923+00:00\",\n",
      "    \"createdBy\": null,\n",
      "    \"createdByType\": null,\n",
      "    \"lastModifiedAt\": \"2024-03-11T18:13:14.699923+00:00\",\n",
      "    \"lastModifiedBy\": null,\n",
      "    \"lastModifiedByType\": null\n",
      "  },\n",
      "  \"type\": \"Microsoft.KubernetesConfiguration/extensions\",\n",
      "  \"version\": null\n",
      "}\n",
      "Enabling custom metrics ...\n",
      "configmap/ama-metrics-prometheus-config created\n",
      "Creating Azure Managed Grafana ...\n",
      "Creating Azure Managed Grafana dashboard: dsb-mycluster-d732-2506\n",
      "\u001b[K\u001b[93mGrafana instance of 'dsb-mycluster-d732-2506' was created. Now creating default role assignments for its managed identity, and current CLI account unless --principal-ids are provided\u001b[0m\n",
      "{\n",
      "  \"id\": \"/subscriptions/20d5770a-8bb2-402f-9ade-11d91cb478a2/resourceGroups/rg-aio-031124/providers/Microsoft.Dashboard/grafana/dsb-mycluster-d732-2506\",\n",
      "  \"identity\": {\n",
      "    \"principalId\": \"87845db4-29a1-40ee-b8af-af282eb176f7\",\n",
      "    \"tenantId\": \"73e50a16-9087-4bfa-9788-ee12a4ef7f2b\",\n",
      "    \"type\": \"SystemAssigned\",\n",
      "    \"userAssignedIdentities\": null\n",
      "  },\n",
      "  \"location\": \"westus2\",\n",
      "  \"name\": \"dsb-mycluster-d732-2506\",\n",
      "  \"properties\": {\n",
      "    \"apiKey\": \"Disabled\",\n",
      "    \"autoGeneratedDomainNameLabelScope\": \"TenantReuse\",\n",
      "    \"deterministicOutboundIp\": \"Disabled\",\n",
      "    \"endpoint\": \"https://dsb-mycluster-d732-2506-b5bwhzhrf9dvhyaq.wus2.grafana.azure.com\",\n",
      "    \"enterpriseConfigurations\": null,\n",
      "    \"grafanaConfigurations\": {\n",
      "      \"smtp\": {\n",
      "        \"enabled\": false,\n",
      "        \"fromAddress\": null,\n",
      "        \"fromName\": null,\n",
      "        \"host\": null,\n",
      "        \"password\": null,\n",
      "        \"skipVerify\": null,\n",
      "        \"startTlsPolicy\": null,\n",
      "        \"user\": null\n",
      "      }\n",
      "    },\n",
      "    \"grafanaIntegrations\": {\n",
      "      \"azureMonitorWorkspaceIntegrations\": []\n",
      "    },\n",
      "    \"grafanaMajorVersion\": \"9\",\n",
      "    \"grafanaPlugins\": null,\n",
      "    \"grafanaVersion\": \"9.5.16\",\n",
      "    \"outboundIPs\": null,\n",
      "    \"privateEndpointConnections\": null,\n",
      "    \"provisioningState\": \"Succeeded\",\n",
      "    \"publicNetworkAccess\": \"Enabled\",\n",
      "    \"zoneRedundancy\": \"Disabled\"\n",
      "  },\n",
      "  \"resourceGroup\": \"rg-aio-031124\",\n",
      "  \"sku\": {\n",
      "    \"name\": \"Standard\"\n",
      "  },\n",
      "  \"systemData\": {\n",
      "    \"createdAt\": \"2024-03-11T18:14:46.957550+00:00\",\n",
      "    \"createdBy\": \"admin@MngEnvMCAP326983.onmicrosoft.com\",\n",
      "    \"createdByType\": \"User\",\n",
      "    \"lastModifiedAt\": \"2024-03-11T18:14:46.957550+00:00\",\n",
      "    \"lastModifiedBy\": \"admin@MngEnvMCAP326983.onmicrosoft.com\",\n",
      "    \"lastModifiedByType\": \"User\"\n",
      "  },\n",
      "  \"tags\": {},\n",
      "  \"type\": \"microsoft.dashboard/grafana\"\n",
      "}\n",
      "Creating prometheus data source for grafana ...\n",
      "{\n",
      "  \"datasource\": {\n",
      "    \"access\": \"proxy\",\n",
      "    \"basicAuth\": false,\n",
      "    \"basicAuthUser\": \"\",\n",
      "    \"database\": \"\",\n",
      "    \"id\": 2,\n",
      "    \"isDefault\": false,\n",
      "    \"jsonData\": {\n",
      "      \"azureCredentials\": {\n",
      "        \"authType\": \"msi\"\n",
      "      },\n",
      "      \"httpMethod\": \"POST\"\n",
      "    },\n",
      "    \"name\": \"prometheus-mycluster\",\n",
      "    \"orgId\": 1,\n",
      "    \"readOnly\": false,\n",
      "    \"secureJsonFields\": {},\n",
      "    \"type\": \"prometheus\",\n",
      "    \"typeLogoUrl\": \"\",\n",
      "    \"uid\": \"d22cb60a-a9fb-4432-b621-dacbd2737923\",\n",
      "    \"url\": \"https://monitor-mycluster-h9tf.westus2.prometheus.monitor.azure.com\",\n",
      "    \"user\": \"\",\n",
      "    \"version\": 1,\n",
      "    \"withCredentials\": false\n",
      "  },\n",
      "  \"id\": 2,\n",
      "  \"message\": \"Datasource added\",\n",
      "  \"name\": \"prometheus-mycluster\"\n",
      "}\n",
      "{\n",
      "  \"dashboardId\": 14,\n",
      "  \"description\": \"\",\n",
      "  \"folderId\": 0,\n",
      "  \"folderUid\": \"\",\n",
      "  \"imported\": true,\n",
      "  \"importedUri\": \"db/total-count-and-machine-status\",\n",
      "  \"importedUrl\": \"/d/aca1dee7-51f2-4a0e-b36b-6f98b6b4917a/total-count-and-machine-status\",\n",
      "  \"path\": \"\",\n",
      "  \"pluginId\": \"\",\n",
      "  \"removed\": false,\n",
      "  \"slug\": \"total-count-and-machine-status\",\n",
      "  \"title\": \"Total Count and Machine Status\",\n",
      "  \"uid\": \"aca1dee7-51f2-4a0e-b36b-6f98b6b4917a\"\n",
      "}\n"
     ]
    }
   ],
   "source": [
    "./06-observability.sh"
   ]
  },
  {
   "cell_type": "markdown",
   "metadata": {},
   "source": [
    "For more information about using the observability stack, go to [OBSERVABILITY.md](../../docs/OBSERVABILITY.md).\n",
    "\n",
    "### 6. Testing MQ Broker\n",
    "\n",
    "1. Open the MQTT UI in a terminal:\n",
    "\n",
    "   ```bash\n",
    "   mqttui\n",
    "   ```\n",
    "\n",
    "1. Open a new Bash terminal and publish a message."
   ]
  },
  {
   "cell_type": "code",
   "execution_count": null,
   "metadata": {
    "vscode": {
     "languageId": "shellscript"
    }
   },
   "outputs": [],
   "source": [
    "mqttui publish \"in-cluster-topic\" 'hello from within the pod'"
   ]
  },
  {
   "cell_type": "markdown",
   "metadata": {},
   "source": [
    "3. Verify you have received the published message in the first terminal you opened the MQTT UI. For that, use the MQTT UI navigation instructions to navigate to the `in-cluster-topic`.\n",
    "\n",
    "    ![in-cluster-topic in MQTTUI](../../docs/assets/mqttui-in-cluster-topic.png)\n",
    "\n",
    "### 7. OPCUA Messages Simulator\n",
    "\n",
    "You can provision the simulator into the system with:"
   ]
  },
  {
   "cell_type": "code",
   "execution_count": null,
   "metadata": {
    "vscode": {
     "languageId": "shellscript"
    }
   },
   "outputs": [],
   "source": [
    "#./08-simulator.sh"
   ]
  },
  {
   "cell_type": "markdown",
   "metadata": {
    "vscode": {
     "languageId": "shellscript"
    }
   },
   "source": [
    "This will create a pod (data-simulator) that will constantly run and send messages every 5 seconds with the two payloads of Good and MachineStatus.\n",
    "\n",
    "You can open MQTTUI to visualize all the messages flowing in this order:\n",
    "\n",
    "1. opcua-simulator\n",
    "1. opcua\n",
    "1. input\n",
    "1. input/valid or input/invalid\n",
    "1. current-shift-total\n",
    "1. metrics/aio/machine-status and metrics/aio/total-count\n",
    "\n",
    "![MQTTUI All Topics](../../docs/assets/mqttui-alltopics.png)\n",
    "\n",
    "\n",
    "## Next Steps\n",
    "\n",
    "Deploy the data processing pipelines in [infra/deployment](../deployment/DEPLOYMENT.ipynb)"
   ]
  }
 ],
 "metadata": {
  "kernelspec": {
   "display_name": "Bash",
   "language": "bash",
   "name": "bash"
  },
  "language_info": {
   "codemirror_mode": "shell",
   "file_extension": ".sh",
   "mimetype": "text/x-sh",
   "name": "bash"
  }
 },
 "nbformat": 4,
 "nbformat_minor": 2
}
