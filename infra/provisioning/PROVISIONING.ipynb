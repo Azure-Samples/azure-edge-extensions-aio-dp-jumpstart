{
 "cells": [
  {
   "cell_type": "markdown",
   "metadata": {},
   "source": [
    "# Provisioning AIO Cluster with K3D\n",
    "\n",
    "This guide walks you through the steps to provision an Azure IoT Operations (AIO) cluster using the provided Bicep template. The Bicep template is based on the example available in an Azure IoT Operations repository.\n",
    "\n",
    "## Azure Resource Dependencies\n",
    "\n",
    "1. Azure Key Vault\n",
    "1. Azure Arc\n",
    "1. Service Principal\n",
    "\n",
    "## Prerequisites\n",
    "\n",
    "1. A running GitHub Codespace of this repository.\n",
    "1. Dev container setup with k3d cluster. Upon creation of the Codespace, a k3d cluster \"devcluster\" is already running and ready to use.\n",
    "1. **Azure Subscription**: `az login` has been executed and default subscription has been set. Ensure you have access to an Azure subscription where you can deploy resources.\n",
    "\n",
    "If required, reset your environment using the [00-clean-up.sh](./00-clean-up.sh) script, which will delete the k3d cluster and then recreate the cluster with the right image and settings. "
   ]
  },
  {
   "cell_type": "code",
   "execution_count": 27,
   "metadata": {
    "vscode": {
     "languageId": "shellscript"
    }
   },
   "outputs": [
    {
     "name": "stdout",
     "output_type": "stream",
     "text": [
      "Azure resource group 'rg-emm03084' is being deleted\n",
      "K3D registry deleted\n",
      "\u001b[36mINFO\u001b[0m[0000] Deleting cluster 'devcluster'                \n",
      "\u001b[36mINFO\u001b[0m[0007] Deleting cluster network 'k3d-devcluster'    \n",
      "\u001b[36mINFO\u001b[0m[0007] Deleting 1 attached volumes...               \n",
      "\u001b[36mINFO\u001b[0m[0007] Removing cluster details from default kubeconfig... \n",
      "\u001b[36mINFO\u001b[0m[0007] Removing standalone kubeconfig file (if there is one)... \n",
      "\u001b[36mINFO\u001b[0m[0007] Successfully deleted cluster devcluster!     \n",
      "\u001b[36mINFO\u001b[0m[0000] Creating node 'k3d-devregistry.localhost'    \n",
      "\u001b[36mINFO\u001b[0m[0000] Successfully created registry 'k3d-devregistry.localhost' \n",
      "\u001b[36mINFO\u001b[0m[0000] Starting Node 'k3d-devregistry.localhost'    \n",
      "\u001b[36mINFO\u001b[0m[0000] Successfully created registry 'k3d-devregistry.localhost' \n",
      "# You can now use the registry like this (example):\n",
      "# 1. create a new cluster that uses this registry\n",
      "k3d cluster create --registry-use k3d-devregistry.localhost:5500\n",
      "\n",
      "# 2. tag an existing local image to be pushed to the registry\n",
      "docker tag nginx:latest k3d-devregistry.localhost:5500/mynginx:v0.1\n",
      "\n",
      "# 3. push that image to the registry\n",
      "docker push k3d-devregistry.localhost:5500/mynginx:v0.1\n",
      "\n",
      "# 4. run a pod that uses this image\n",
      "kubectl run mynginx --image k3d-devregistry.localhost:5500/mynginx:v0.1\n",
      "\n",
      "\u001b[36mINFO\u001b[0m[0000] portmapping '4000:80' targets the loadbalancer: defaulting to [servers:*:proxy agents:*:proxy] \n",
      "\u001b[36mINFO\u001b[0m[0000] portmapping '1883:1883' targets the loadbalancer: defaulting to [servers:*:proxy agents:*:proxy] \n",
      "\u001b[36mINFO\u001b[0m[0000] portmapping '8883:8883' targets the loadbalancer: defaulting to [servers:*:proxy agents:*:proxy] \n",
      "\u001b[36mINFO\u001b[0m[0000] portmapping '6001:6001' targets the loadbalancer: defaulting to [servers:*:proxy agents:*:proxy] \n",
      "\u001b[36mINFO\u001b[0m[0000] Prep: Network                                \n",
      "\u001b[36mINFO\u001b[0m[0000] Created network 'k3d-devcluster'             \n",
      "\u001b[36mINFO\u001b[0m[0000] Created image volume k3d-devcluster-images   \n",
      "\u001b[36mINFO\u001b[0m[0000] Starting new tools node...                   \n",
      "\u001b[36mINFO\u001b[0m[0000] Starting Node 'k3d-devcluster-tools'         \n",
      "\u001b[36mINFO\u001b[0m[0001] Creating node 'k3d-devcluster-server-0'      \n",
      "\u001b[36mINFO\u001b[0m[0001] Creating LoadBalancer 'k3d-devcluster-serverlb' \n",
      "\u001b[36mINFO\u001b[0m[0001] Using the k3d-tools node to gather environment information \n",
      "\u001b[36mINFO\u001b[0m[0002] HostIP: using network gateway 172.21.0.1 address \n",
      "\u001b[36mINFO\u001b[0m[0002] Starting cluster 'devcluster'                \n",
      "\u001b[36mINFO\u001b[0m[0002] Starting servers...                          \n",
      "\u001b[36mINFO\u001b[0m[0002] Starting Node 'k3d-devcluster-server-0'      \n",
      "\u001b[36mINFO\u001b[0m[0006] All agents already running.                  \n",
      "\u001b[36mINFO\u001b[0m[0006] Starting helpers...                          \n",
      "\u001b[36mINFO\u001b[0m[0006] Starting Node 'k3d-devcluster-serverlb'      \n",
      "\u001b[36mINFO\u001b[0m[0012] Injecting records for hostAliases (incl. host.k3d.internal) and for 3 network members into CoreDNS configmap... \n",
      "\u001b[36mINFO\u001b[0m[0015] Cluster 'devcluster' created successfully!   \n",
      "\u001b[36mINFO\u001b[0m[0015] You can now use it like this:                \n",
      "kubectl cluster-info\n",
      "K3D registry and cluster created again, you can now run through Readme for installation\n"
     ]
    }
   ],
   "source": [
    "./00-clean-up.sh"
   ]
  },
  {
   "cell_type": "markdown",
   "metadata": {},
   "source": [
    "## Steps\n",
    "\n",
    "### 1. Connect to Azure Arc\n",
    "Set the params as env variables. Ensure that for the parameter `LOCATION` you use one of the [supported regions](https://learn.microsoft.com/en-us/azure/iot-operations/get-started/quickstart-deploy?tabs=linux#connect-a-kubernetes-cluster-to-azure-arc).\n"
   ]
  },
  {
   "cell_type": "code",
   "execution_count": 30,
   "metadata": {
    "vscode": {
     "languageId": "shellscript"
    }
   },
   "outputs": [],
   "source": [
    "export RESOURCE_GROUP=\"rg-aio2\"\n",
    "export CLUSTER_NAME=\"mycluster\"\n",
    "export LOCATION=\"westus2\""
   ]
  },
  {
   "cell_type": "markdown",
   "metadata": {},
   "source": [
    "Run the following script to connect the k3d Kubernetes cluster to Azure Arc."
   ]
  },
  {
   "cell_type": "code",
   "execution_count": 31,
   "metadata": {
    "vscode": {
     "languageId": "shellscript"
    }
   },
   "outputs": [
    {
     "name": "stdout",
     "output_type": "stream",
     "text": [
      "ARC_CUSTOMLOCATION_OID is not set. Setting it to the value of LOCATION westus2.\n"
     ]
    },
    {
     "name": "stdout",
     "output_type": "stream",
     "text": [
      "{\n",
      "  \"id\": \"/subscriptions/20d5770a-8bb2-402f-9ade-11d91cb478a2/resourceGroups/rg-aio2\",\n",
      "  \"location\": \"westus2\",\n",
      "  \"managedBy\": null,\n",
      "  \"name\": \"rg-aio2\",\n",
      "  \"properties\": {\n",
      "    \"provisioningState\": \"Succeeded\"\n",
      "  },\n",
      "  \"tags\": null,\n",
      "  \"type\": \"Microsoft.Resources/resourceGroups\"\n",
      "}\n",
      "  \"id\": \"/subscriptions/20d5770a-8bb2-402f-9ade-11d91cb478a2/resourceGroups/rg-aio2\",\n",
      "  \"location\": \"westus2\",\n",
      "  \"managedBy\": null,\n",
      "  \"name\": \"rg-aio2\",\n",
      "  \"properties\": {\n",
      "    \"provisioningState\": \"Succeeded\"\n",
      "  },\n",
      "  \"tags\": null,\n",
      "  \"type\": \"Microsoft.Resources/resourceGroups\"\n",
      "}\n",
      "NAME                      STATUS   ROLES                  AGE     VERSION\n",
      "k3d-devcluster-server-0   Ready    control-plane,master   2m50s   v1.25.3+k3s1\n",
      "\u001b[93mThis operation might take a while...\n",
      "\u001b[0m\n",
      "The required pre-checks for onboarding have succeeded.\n",
      "Azure resource provisioning has begun.\n",
      "\u001b[KAzure resource provisioning has finished.\n",
      "Starting to install Azure arc agents on the Kubernetes cluster.\n",
      "{\n",
      "  \"agentPublicKeyCertificate\": \"MIICCgKCAgEAyVKn2i60kjW6dQzMFEl9gxh/DvBDksxdN7kh0f8JGMm2kQIhziUTfmTJjVPAyM88upriiO22BM6RleVwGhMLpjphdvizUh1fzptqxpiWhi8WfX2Kps0kPm2LvvGxAZPUnZ7IabIpJX0Vhnop4+LN2de3A2d8hIGbXxnypiXqJCRs5v9r7/bvbfS9stGGWCq+obu4nITYVpmTkydLZl2sT0UtdhawVq0dsa2qrhLWztC2KnG8nK/gfjjfic0UIN8kk5r3jN2HOF+HIXnqrZXHCLCdp4UdNYENs4VbXIEL5qIItdQBtPV4qgiw61iGUZh7U6pDGb397dtNVn9KT+/mrhqRg/62tmymPxV9faOGVGmOw/EZ+LffQ8NvF2/+2ha/1D6DyiyakDOPoxZ66X3CF9KkP0NtJVZluVoeWjD3mW5eh7lEdl4n3k79ywE5z4rqikVPjAQBquTvFVSEsI1oiTflIynyWaS/1DKc57kRb2VGEMjG0a3KNoP9/6TiBGZ3oCcLhdJFU9fqVWbpD2BDw4rugYTHQq72JU1nKc1AlDaTGkk4EP2oDF3BET/LdTmYzz9ayCdWQGiPIL/yPVKltyTAueexuRCdglrOEqHoIr6AgqWynNInJMmHXnlmEWk1rVXwubF/uwFoYtHfsDSxKWUxhJSkwo5pHUg9vE5bD6sCAwEAAQ==\",\n",
      "  \"agentVersion\": null,\n",
      "  \"connectivityStatus\": \"Connecting\",\n",
      "  \"distribution\": \"k3s\",\n",
      "  \"id\": \"/subscriptions/20d5770a-8bb2-402f-9ade-11d91cb478a2/resourceGroups/rg-aio2/providers/Microsoft.Kubernetes/connectedClusters/mycluster\",\n",
      "  \"identity\": {\n",
      "    \"principalId\": \"b196f909-ad7b-4e26-a59d-d812b4cca791\",\n",
      "    \"tenantId\": \"73e50a16-9087-4bfa-9788-ee12a4ef7f2b\",\n",
      "    \"type\": \"SystemAssigned\"\n",
      "  },\n",
      "  \"infrastructure\": \"generic\",\n",
      "  \"kubernetesVersion\": null,\n",
      "  \"lastConnectivityTime\": null,\n",
      "  \"location\": \"westus2\",\n",
      "  \"managedIdentityCertificateExpirationTime\": null,\n",
      "  \"name\": \"mycluster\",\n",
      "  \"offering\": null,\n",
      "  \"provisioningState\": \"Succeeded\",\n",
      "  \"resourceGroup\": \"rg-aio2\",\n",
      "  \"systemData\": {\n",
      "    \"createdAt\": \"2024-03-09T01:22:27.891029+00:00\",\n",
      "    \"createdBy\": \"admin@MngEnvMCAP326983.onmicrosoft.com\",\n",
      "    \"createdByType\": \"User\",\n",
      "    \"lastModifiedAt\": \"2024-03-09T01:22:27.891029+00:00\",\n",
      "    \"lastModifiedBy\": \"admin@MngEnvMCAP326983.onmicrosoft.com\",\n",
      "    \"lastModifiedByType\": \"User\"\n",
      "  },\n",
      "  \"tags\": {},\n",
      "  \"totalCoreCount\": null,\n",
      "  \"totalNodeCount\": null,\n",
      "  \"type\": \"microsoft.kubernetes/connectedclusters\"\n",
      "}\n",
      "NAME                STATUS   AGE\n",
      "kube-system         Active   5m43s\n",
      "default             Active   5m43s\n",
      "kube-public         Active   5m43s\n",
      "kube-node-lease     Active   5m43s\n",
      "azure-arc-release   Active   4m10s\n",
      "azure-arc           Active   63s\n",
      "NAME                                              READY   STATUS    RESTARTS   AGE\n",
      "pod/flux-logs-agent-59b48bc466-9kslx              1/1     Running   0          63s\n",
      "pod/extension-events-collector-868dc98d87-tbssf   2/2     Running   0          63s\n",
      "pod/resource-sync-agent-7f9dd8dd76-xdvx8          2/2     Running   0          63s\n",
      "pod/extension-manager-659d989f44-jlzq6            3/3     Running   0          62s\n",
      "pod/cluster-metadata-operator-5fcd8f74b-j6dmf     2/2     Running   0          62s\n",
      "pod/clusteridentityoperator-b76c96c87-pc6p2       2/2     Running   0          62s\n",
      "pod/controller-manager-dfd864b78-zh5v9            2/2     Running   0          63s\n",
      "pod/logcollector-78db4f5fc-m5rpk                  1/1     Running   0          62s\n",
      "pod/metrics-agent-574c545786-mn2l2                2/2     Running   0          62s\n",
      "pod/clusterconnect-agent-798f74df68-89kkf         3/3     Running   0          62s\n",
      "pod/kube-aad-proxy-5cd8d6645c-4wdl9               2/2     Running   0          62s\n",
      "pod/config-agent-7f488f856b-5fnh8                 2/2     Running   0          62s\n",
      "\n",
      "NAME                                 TYPE        CLUSTER-IP      EXTERNAL-IP   PORT(S)            AGE\n",
      "service/extension-manager-svc        ClusterIP   None            <none>        8081/TCP           63s\n",
      "service/flux-logs-agent              ClusterIP   10.43.183.230   <none>        80/TCP             63s\n",
      "service/logcollector                 ClusterIP   10.43.60.74     <none>        24224/TCP          63s\n",
      "service/kube-aad-proxy               ClusterIP   10.43.51.232    <none>        443/TCP,8080/TCP   63s\n",
      "service/extension-events-collector   ClusterIP   10.43.12.106    <none>        8082/TCP           63s\n",
      "\n",
      "NAME                                         READY   UP-TO-DATE   AVAILABLE   AGE\n",
      "deployment.apps/flux-logs-agent              1/1     1            1           63s\n",
      "deployment.apps/extension-events-collector   1/1     1            1           63s\n",
      "deployment.apps/resource-sync-agent          1/1     1            1           63s\n",
      "deployment.apps/extension-manager            1/1     1            1           63s\n",
      "deployment.apps/cluster-metadata-operator    1/1     1            1           63s\n",
      "deployment.apps/clusteridentityoperator      1/1     1            1           63s\n",
      "deployment.apps/controller-manager           1/1     1            1           63s\n",
      "deployment.apps/logcollector                 1/1     1            1           63s\n",
      "deployment.apps/metrics-agent                1/1     1            1           63s\n",
      "deployment.apps/clusterconnect-agent         1/1     1            1           63s\n",
      "deployment.apps/kube-aad-proxy               1/1     1            1           63s\n",
      "deployment.apps/config-agent                 1/1     1            1           63s\n",
      "\n",
      "NAME                                                    DESIRED   CURRENT   READY   AGE\n",
      "replicaset.apps/flux-logs-agent-59b48bc466              1         1         1       63s\n",
      "replicaset.apps/extension-events-collector-868dc98d87   1         1         1       63s\n",
      "replicaset.apps/resource-sync-agent-7f9dd8dd76          1         1         1       63s\n",
      "replicaset.apps/extension-manager-659d989f44            1         1         1       62s\n",
      "replicaset.apps/cluster-metadata-operator-5fcd8f74b     1         1         1       62s\n",
      "replicaset.apps/clusteridentityoperator-b76c96c87       1         1         1       62s\n",
      "replicaset.apps/controller-manager-dfd864b78            1         1         1       63s\n",
      "replicaset.apps/logcollector-78db4f5fc                  1         1         1       63s\n",
      "replicaset.apps/metrics-agent-574c545786                1         1         1       62s\n",
      "replicaset.apps/clusterconnect-agent-798f74df68         1         1         1       63s\n",
      "replicaset.apps/kube-aad-proxy-5cd8d6645c               1         1         1       62s\n",
      "replicaset.apps/config-agent-7f488f856b                 1         1         1       63s\n",
      "\u001b[36mThis command is in preview and under development. Reference and support levels: https://aka.ms/CLI_refstatus\u001b[0m\n",
      "\u001b[93mThis operation might take a while...\n",
      "\u001b[0m\n",
      "\"Successsfully enabled features: ['cluster-connect', 'custom-locations'] for the Connected Cluster mycluster\"\n",
      "Arc connected to cluster mycluster\n"
     ]
    }
   ],
   "source": [
    "./01-arc-connect.sh"
   ]
  },
  {
   "cell_type": "markdown",
   "metadata": {},
   "source": [
    "### 3. Create service principal\n",
    "Run the script to create a service principal with an app name of your choice."
   ]
  },
  {
   "cell_type": "code",
   "execution_count": 33,
   "metadata": {
    "vscode": {
     "languageId": "shellscript"
    }
   },
   "outputs": [
    {
     "name": "stdout",
     "output_type": "stream",
     "text": [
      "Creating Service Principal ...\n",
      "WARNING: Option '--sdk-auth' has been deprecated and will be removed in a future release.\n",
      "WARNING: Creating 'owner' role assignment under scope '/subscriptions/20d5770a-8bb2-402f-9ade-11d91cb478a2'\n",
      "WARNING: The output includes credentials that you must protect. Be sure that you do not include these credentials in your code or check the credentials into your source control. For more information, see https://aka.ms/azadsp-cli\n"
     ]
    }
   ],
   "source": [
    "./02-create-sp.sh aio2"
   ]
  },
  {
   "cell_type": "markdown",
   "metadata": {},
   "source": [
    "Save the app ID and client secret of the created service principal and set as env variables. These will be in `~/.azure/servicePrincipal.json`. Set the object ID as well."
   ]
  },
  {
   "cell_type": "code",
   "execution_count": 34,
   "metadata": {
    "vscode": {
     "languageId": "shellscript"
    }
   },
   "outputs": [],
   "source": [
    "export AKV_SP_CLIENT_ID=$(cat ~/.azure/servicePrincipal.json | jq -r '.clientId')\n",
    "export AKV_SP_CLIENT_SECRET=$(cat ~/.azure/servicePrincipal.json | jq -r '.clientSecret')\n",
    "export AKV_SP_OBJECT_ID=$(az ad sp show --id $AKV_SP_CLIENT_ID --query id -o tsv)"
   ]
  },
  {
   "cell_type": "markdown",
   "metadata": {},
   "source": [
    "### 4. Deploy the Bicep Template\n",
    "\n",
    "Run the following script to provision the Azure Key Vault and deploy AIO with MQ. \n",
    "\n",
    "The script automatically sets the Azure Key Vault name based on the Resource Group name you set to `$RESOURCE_GROUP` variable and a random number to prevent name conflicts.\n",
    "\n",
    "> **Note**: The deployment will take a few minutes to complete. To see the output of the `03-aio-deploy-core.sh` script, look in the `output.log` file created in the same directory."
   ]
  },
  {
   "cell_type": "code",
   "execution_count": 35,
   "metadata": {
    "vscode": {
     "languageId": "shellscript"
    }
   },
   "outputs": [
    {
     "name": "stdout",
     "output_type": "stream",
     "text": [
      "[1] 247579\n"
     ]
    }
   ],
   "source": [
    "nohup ./03-aio-deploy-core.sh > output.log 2>&1 & tail -f output.log | tail -n 1"
   ]
  },
  {
   "cell_type": "code",
   "execution_count": null,
   "metadata": {
    "vscode": {
     "languageId": "shellscript"
    }
   },
   "outputs": [],
   "source": [
    "./04-aio-deploy-bicep.sh && ./05-aio-deploy-aks.sh"
   ]
  },
  {
   "cell_type": "markdown",
   "metadata": {},
   "source": [
    "### 5. Verify Deployment\n",
    "\n",
    "Once the deployment is complete, you can verify the following k8s extensions in your cluster are in the Azure Portal with the status `Succeeded`:\n",
    "\n",
    "- azure-iot-operations\n",
    "- mq\n",
    "\n",
    "### 6. Setup the observability stack (optional)\n",
    "\n",
    "The observability stack is a set of Azure resources including Azure Monitor, Grafana, and Prometheus connections to the cluster to gather cluster insights, traces and metrics. Run the following script from the provisioning folder:"
   ]
  },
  {
   "cell_type": "code",
   "execution_count": 9,
   "metadata": {
    "vscode": {
     "languageId": "shellscript"
    }
   },
   "outputs": [
    {
     "name": "stdout",
     "output_type": "stream",
     "text": [
      "== Enabling observability ==\n",
      "\u001b[36mCommand group 'config' is experimental and under development. Reference and support levels: https://aka.ms/CLI_refstatus\u001b[0m\n",
      "Creating an Azure Monitor Logs Analytics Workspace ...\n",
      "{\n",
      "  \"accountId\": \"87504d18-991b-40b9-8dee-62b6d6b32072\",\n",
      "  \"defaultIngestionSettings\": {\n",
      "    \"dataCollectionEndpointResourceId\": \"/subscriptions/20d5770a-8bb2-402f-9ade-11d91cb478a2/resourceGroups/MA_monitor-mycluster_westus2_managed_9/providers/Microsoft.Insights/dataCollectionEndpoints/monitor-mycluster\",\n",
      "    \"dataCollectionRuleResourceId\": \"/subscriptions/20d5770a-8bb2-402f-9ade-11d91cb478a2/resourceGroups/MA_monitor-mycluster_westus2_managed_9/providers/Microsoft.Insights/dataCollectionRules/monitor-mycluster\"\n",
      "  },\n",
      "  \"etag\": \"\\\"7301664e-0000-0800-0000-65eb98f90000\\\"\",\n",
      "  \"id\": \"/subscriptions/20d5770a-8bb2-402f-9ade-11d91cb478a2/resourcegroups/rg-emm03082/providers/microsoft.monitor/accounts/monitor-mycluster\",\n",
      "  \"location\": \"westus2\",\n",
      "  \"metrics\": {\n",
      "    \"internalId\": \"mac_87504d18-991b-40b9-8dee-62b6d6b32072\",\n",
      "    \"prometheusQueryEndpoint\": \"https://monitor-mycluster-2qmm.westus2.prometheus.monitor.azure.com\"\n",
      "  },\n",
      "  \"name\": \"monitor-mycluster\",\n",
      "  \"provisioningState\": \"Succeeded\",\n",
      "  \"publicNetworkAccess\": \"Enabled\",\n",
      "  \"resourceGroup\": \"rg-emm03082\",\n",
      "  \"systemData\": {\n",
      "    \"createdAt\": \"2024-03-08T23:02:08.2634754Z\",\n",
      "    \"createdBy\": \"admin@MngEnvMCAP326983.onmicrosoft.com\",\n",
      "    \"createdByType\": \"User\",\n",
      "    \"lastModifiedAt\": \"2024-03-08T23:02:08.2634754Z\",\n",
      "    \"lastModifiedBy\": \"admin@MngEnvMCAP326983.onmicrosoft.com\",\n",
      "    \"lastModifiedByType\": \"User\"\n",
      "  },\n",
      "  \"type\": \"Microsoft.Monitor/accounts\"\n",
      "}\n",
      "Prometheus endpoint: https://monitor-mycluster-2qmm.westus2.prometheus.monitor.azure.com\n",
      "Enabling prometheus metrics collection ...\n",
      "Registering microsoft.monitor RP for the subscription 20d5770a-8bb2-402f-9ade-11d91cb478a2\n",
      "Registering microsoft.dashboard RP for the subscription 20d5770a-8bb2-402f-9ade-11d91cb478a2\n",
      "Using Azure Monitor Workspace (stores prometheus metrics) : /subscriptions/20d5770a-8bb2-402f-9ade-11d91cb478a2/resourcegroups/rg-emm03082/providers/microsoft.monitor/accounts/monitor-mycluster\n",
      "\u001b[K{| Finished ..\n",
      "  \"aksAssignedIdentity\": null,\n",
      "  \"autoUpgradeMinorVersion\": true,\n",
      "  \"configurationProtectedSettings\": {},\n",
      "  \"configurationSettings\": {\n",
      "    \"azure-monitor-workspace-resource-id\": \"/subscriptions/20d5770a-8bb2-402f-9ade-11d91cb478a2/resourcegroups/rg-emm03082/providers/microsoft.monitor/accounts/monitor-mycluster\"\n",
      "  },\n",
      "  \"currentVersion\": \"6.8.3-main-01-09-2024-a192d342\",\n",
      "  \"customLocationSettings\": null,\n",
      "  \"errorInfo\": null,\n",
      "  \"extensionType\": \"microsoft.azuremonitor.containers.metrics\",\n",
      "  \"id\": \"/subscriptions/20d5770a-8bb2-402f-9ade-11d91cb478a2/resourceGroups/rg-emm03082/providers/Microsoft.Kubernetes/connectedClusters/mycluster/providers/Microsoft.KubernetesConfiguration/extensions/azuremonitor-metrics\",\n",
      "  \"identity\": {\n",
      "    \"principalId\": \"7f7ce32a-d5c9-4684-b2d7-e69ee219007c\",\n",
      "    \"tenantId\": null,\n",
      "    \"type\": \"SystemAssigned\"\n",
      "  },\n",
      "  \"isSystemExtension\": false,\n",
      "  \"name\": \"azuremonitor-metrics\",\n",
      "  \"packageUri\": null,\n",
      "  \"plan\": null,\n",
      "  \"provisioningState\": \"Succeeded\",\n",
      "  \"releaseTrain\": \"stable\",\n",
      "  \"resourceGroup\": \"rg-emm03082\",\n",
      "  \"scope\": {\n",
      "    \"cluster\": {\n",
      "      \"releaseNamespace\": \"kube-system\"\n",
      "    },\n",
      "    \"namespace\": null\n",
      "  },\n",
      "  \"statuses\": [],\n",
      "  \"systemData\": {\n",
      "    \"createdAt\": \"2024-03-08T23:02:35.108237+00:00\",\n",
      "    \"createdBy\": null,\n",
      "    \"createdByType\": null,\n",
      "    \"lastModifiedAt\": \"2024-03-08T23:02:35.108237+00:00\",\n",
      "    \"lastModifiedBy\": null,\n",
      "    \"lastModifiedByType\": null\n",
      "  },\n",
      "  \"type\": \"Microsoft.KubernetesConfiguration/extensions\",\n",
      "  \"version\": null\n",
      "}\n",
      "Enabling container insights ...\n",
      "\u001b[93mIgnoring name, release-namespace and scope parameters since microsoft.azuremonitor.containers only supports cluster scope and single instance of this extension.\u001b[0m\n",
      "\u001b[93mDefaulting to extension name 'azuremonitor-containers' and release-namespace 'azuremonitor-containers'\u001b[0m\n",
      "\u001b[K{\\ Finished ..\n",
      "  \"aksAssignedIdentity\": null,\n",
      "  \"autoUpgradeMinorVersion\": true,\n",
      "  \"configurationProtectedSettings\": {\n",
      "    \"amalogs.secret.key\": \"\",\n",
      "    \"amalogs.secret.wsid\": \"\",\n",
      "    \"omsagent.secret.key\": \"\",\n",
      "    \"omsagent.secret.wsid\": \"\"\n",
      "  },\n",
      "  \"configurationSettings\": {\n",
      "    \"amalogs.useAADAuth\": \"true\",\n",
      "    \"azure-monitor-workspace-resource-id\": \"/subscriptions/20d5770a-8bb2-402f-9ade-11d91cb478a2/resourcegroups/rg-emm03082/providers/microsoft.monitor/accounts/monitor-mycluster\",\n",
      "    \"logAnalyticsWorkspaceResourceID\": \"/subscriptions/20d5770a-8bb2-402f-9ade-11d91cb478a2/resourceGroups/DefaultResourceGroup-WUS2/providers/Microsoft.OperationalInsights/workspaces/DefaultWorkspace-20d5770a-8bb2-402f-9ade-11d91cb478a2-WUS2\"\n",
      "  },\n",
      "  \"currentVersion\": \"3.1.17\",\n",
      "  \"customLocationSettings\": null,\n",
      "  \"errorInfo\": null,\n",
      "  \"extensionType\": \"microsoft.azuremonitor.containers\",\n",
      "  \"id\": \"/subscriptions/20d5770a-8bb2-402f-9ade-11d91cb478a2/resourceGroups/rg-emm03082/providers/Microsoft.Kubernetes/connectedClusters/mycluster/providers/Microsoft.KubernetesConfiguration/extensions/azuremonitor-containers\",\n",
      "  \"identity\": {\n",
      "    \"principalId\": \"c93f537d-98d1-4bd4-8c29-ddc6a6a73188\",\n",
      "    \"tenantId\": null,\n",
      "    \"type\": \"SystemAssigned\"\n",
      "  },\n",
      "  \"isSystemExtension\": false,\n",
      "  \"name\": \"azuremonitor-containers\",\n",
      "  \"packageUri\": null,\n",
      "  \"plan\": null,\n",
      "  \"provisioningState\": \"Succeeded\",\n",
      "  \"releaseTrain\": \"Stable\",\n",
      "  \"resourceGroup\": \"rg-emm03082\",\n",
      "  \"scope\": {\n",
      "    \"cluster\": {\n",
      "      \"releaseNamespace\": \"azuremonitor-containers\"\n",
      "    },\n",
      "    \"namespace\": null\n",
      "  },\n",
      "  \"statuses\": [],\n",
      "  \"systemData\": {\n",
      "    \"createdAt\": \"2024-03-08T23:04:13.776949+00:00\",\n",
      "    \"createdBy\": null,\n",
      "    \"createdByType\": null,\n",
      "    \"lastModifiedAt\": \"2024-03-08T23:04:13.776949+00:00\",\n",
      "    \"lastModifiedBy\": null,\n",
      "    \"lastModifiedByType\": null\n",
      "  },\n",
      "  \"type\": \"Microsoft.KubernetesConfiguration/extensions\",\n",
      "  \"version\": null\n",
      "}\n",
      "Enabling custom metrics ...\n",
      "configmap/ama-metrics-prometheus-config created\n",
      "Creating Azure Managed Grafana ...\n",
      "Creating Azure Managed Grafana dashboard: dsb-mycluster-1ddf-9520\n",
      "\u001b[93mThe command requires the extension amg. It will be installed first.\u001b[0m\n",
      "\u001b[93mDefault enabled including preview versions for extension installation now. Disabled in May 2024. Use '--allow-preview true' to enable it specifically if needed. Use '--allow-preview false' to install stable version only. \u001b[0m\n",
      "\u001b[K\u001b[93mGrafana instance of 'dsb-mycluster-1ddf-9520' was created. Now creating default role assignments for its managed identity, and current CLI account unless --principal-ids are provided\u001b[0m\n",
      "{\n",
      "  \"id\": \"/subscriptions/20d5770a-8bb2-402f-9ade-11d91cb478a2/resourceGroups/rg-emm03082/providers/Microsoft.Dashboard/grafana/dsb-mycluster-1ddf-9520\",\n",
      "  \"identity\": {\n",
      "    \"principalId\": \"07e1f49d-7b9b-45d3-a8ab-2bf879529df8\",\n",
      "    \"tenantId\": \"73e50a16-9087-4bfa-9788-ee12a4ef7f2b\",\n",
      "    \"type\": \"SystemAssigned\",\n",
      "    \"userAssignedIdentities\": null\n",
      "  },\n",
      "  \"location\": \"westus2\",\n",
      "  \"name\": \"dsb-mycluster-1ddf-9520\",\n",
      "  \"properties\": {\n",
      "    \"apiKey\": \"Disabled\",\n",
      "    \"autoGeneratedDomainNameLabelScope\": \"TenantReuse\",\n",
      "    \"deterministicOutboundIp\": \"Disabled\",\n",
      "    \"endpoint\": \"https://dsb-mycluster-1ddf-9520-gjdng9gebyhzhncu.wus2.grafana.azure.com\",\n",
      "    \"enterpriseConfigurations\": null,\n",
      "    \"grafanaConfigurations\": {\n",
      "      \"smtp\": {\n",
      "        \"enabled\": false,\n",
      "        \"fromAddress\": null,\n",
      "        \"fromName\": null,\n",
      "        \"host\": null,\n",
      "        \"password\": null,\n",
      "        \"skipVerify\": null,\n",
      "        \"startTlsPolicy\": null,\n",
      "        \"user\": null\n",
      "      }\n",
      "    },\n",
      "    \"grafanaIntegrations\": {\n",
      "      \"azureMonitorWorkspaceIntegrations\": []\n",
      "    },\n",
      "    \"grafanaMajorVersion\": \"9\",\n",
      "    \"grafanaPlugins\": null,\n",
      "    \"grafanaVersion\": \"9.5.16\",\n",
      "    \"outboundIPs\": null,\n",
      "    \"privateEndpointConnections\": null,\n",
      "    \"provisioningState\": \"Succeeded\",\n",
      "    \"publicNetworkAccess\": \"Enabled\",\n",
      "    \"zoneRedundancy\": \"Disabled\"\n",
      "  },\n",
      "  \"resourceGroup\": \"rg-emm03082\",\n",
      "  \"sku\": {\n",
      "    \"name\": \"Standard\"\n",
      "  },\n",
      "  \"systemData\": {\n",
      "    \"createdAt\": \"2024-03-08T23:05:52.637376+00:00\",\n",
      "    \"createdBy\": \"admin@MngEnvMCAP326983.onmicrosoft.com\",\n",
      "    \"createdByType\": \"User\",\n",
      "    \"lastModifiedAt\": \"2024-03-08T23:05:52.637376+00:00\",\n",
      "    \"lastModifiedBy\": \"admin@MngEnvMCAP326983.onmicrosoft.com\",\n",
      "    \"lastModifiedByType\": \"User\"\n",
      "  },\n",
      "  \"tags\": {},\n",
      "  \"type\": \"microsoft.dashboard/grafana\"\n",
      "}\n",
      "Creating prometheus data source for grafana ...\n",
      "{\n",
      "  \"datasource\": {\n",
      "    \"access\": \"proxy\",\n",
      "    \"basicAuth\": false,\n",
      "    \"basicAuthUser\": \"\",\n",
      "    \"database\": \"\",\n",
      "    \"id\": 2,\n",
      "    \"isDefault\": false,\n",
      "    \"jsonData\": {\n",
      "      \"azureCredentials\": {\n",
      "        \"authType\": \"msi\"\n",
      "      },\n",
      "      \"httpMethod\": \"POST\"\n",
      "    },\n",
      "    \"name\": \"prometheus-mycluster\",\n",
      "    \"orgId\": 1,\n",
      "    \"readOnly\": false,\n",
      "    \"secureJsonFields\": {},\n",
      "    \"type\": \"prometheus\",\n",
      "    \"typeLogoUrl\": \"\",\n",
      "    \"uid\": \"d019346b-0b9b-40ab-86ee-8c63dd00f793\",\n",
      "    \"url\": \"https://monitor-mycluster-2qmm.westus2.prometheus.monitor.azure.com\",\n",
      "    \"user\": \"\",\n",
      "    \"version\": 1,\n",
      "    \"withCredentials\": false\n",
      "  },\n",
      "  \"id\": 2,\n",
      "  \"message\": \"Datasource added\",\n",
      "  \"name\": \"prometheus-mycluster\"\n",
      "}\n",
      "{\n",
      "  \"dashboardId\": 14,\n",
      "  \"description\": \"\",\n",
      "  \"folderId\": 0,\n",
      "  \"folderUid\": \"\",\n",
      "  \"imported\": true,\n",
      "  \"importedUri\": \"db/total-count-and-machine-status\",\n",
      "  \"importedUrl\": \"/d/aca1dee7-51f2-4a0e-b36b-6f98b6b4917a/total-count-and-machine-status\",\n",
      "  \"path\": \"\",\n",
      "  \"pluginId\": \"\",\n",
      "  \"removed\": false,\n",
      "  \"slug\": \"total-count-and-machine-status\",\n",
      "  \"title\": \"Total Count and Machine Status\",\n",
      "  \"uid\": \"aca1dee7-51f2-4a0e-b36b-6f98b6b4917a\"\n",
      "}\n"
     ]
    }
   ],
   "source": [
    "./06-observability.sh"
   ]
  },
  {
   "cell_type": "markdown",
   "metadata": {},
   "source": [
    "For more information about using the observability stack, go to [OBSERVABILITY.md](../../docs/OBSERVABILITY.md).\n",
    "\n",
    "### 7. Testing MQ Broker\n",
    "\n",
    "1. Open the MQTT UI in a terminal:\n",
    "\n",
    "   ```bash\n",
    "   mqttui\n",
    "   ```\n",
    "\n",
    "1. Open a new Bash terminal and publish a message."
   ]
  },
  {
   "cell_type": "code",
   "execution_count": 10,
   "metadata": {
    "vscode": {
     "languageId": "shellscript"
    }
   },
   "outputs": [],
   "source": [
    "mqttui publish \"in-cluster-topic\" 'hello from within the pod'"
   ]
  },
  {
   "cell_type": "markdown",
   "metadata": {},
   "source": [
    "1. Verify you have received the published message in the first terminal you opened the MQTT UI. For that, use the MQTT UI navigation instructions to navigate to the `in-cluster-topic`.\n",
    "\n",
    "    ![in-cluster-topic in MQTTUI](../../docs/assets/mqttui-in-cluster-topic.png)\n",
    "\n",
    "### 8. OPCUA Messages Simulator\n",
    "\n",
    "You can provision the simulator into the system with:"
   ]
  },
  {
   "cell_type": "code",
   "execution_count": null,
   "metadata": {
    "vscode": {
     "languageId": "shellscript"
    }
   },
   "outputs": [],
   "source": [
    "./08-simulator.sh"
   ]
  },
  {
   "cell_type": "markdown",
   "metadata": {
    "vscode": {
     "languageId": "shellscript"
    }
   },
   "source": [
    "This will create a pod (data-simulator) that will constantly run and send messages every 5 seconds with the two payloads of Good and MachineStatus.\n",
    "\n",
    "You can open MQTTUI to visualize all the messages flowing in this order:\n",
    "\n",
    "1. opcua-simulator\n",
    "1. opcua\n",
    "1. input\n",
    "1. input/valid or input/invalid\n",
    "1. current-shift-total\n",
    "1. metrics/aio/machine-status and metrics/aio/total-count\n",
    "\n",
    "![MQTTUI All Topics](../../docs/assets/mqttui-alltopics.png)\n",
    "\n",
    "\n",
    "## Next Steps\n",
    "\n",
    "Deploy the data processing pipelines in [infra/deployment](../deployment/DEPLOYMENT.ipynb)"
   ]
  }
 ],
 "metadata": {
  "kernelspec": {
   "display_name": "Bash",
   "language": "bash",
   "name": "bash"
  },
  "language_info": {
   "codemirror_mode": "shell",
   "file_extension": ".sh",
   "mimetype": "text/x-sh",
   "name": "bash"
  }
 },
 "nbformat": 4,
 "nbformat_minor": 2
}
