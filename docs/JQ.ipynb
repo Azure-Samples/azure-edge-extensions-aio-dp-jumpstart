{
 "cells": [
  {
   "cell_type": "markdown",
   "metadata": {},
   "source": [
    "# JQ Queries\n",
    "\n",
    "The AIO Data Processor pipelines use JQ queries to transform the data. This notebook provides a brief introduction to JQ queries and how to use them. JQ queries are written in a simple and expressive language. They are easy to read and write. JQ queries can be used to extract data from JSON objects, filter data, and transform data.\n",
    "\n",
    "You can use this notebook to learn how to write JQ queries and test them on sample data before using them in the AIO Data Processor pipelines. The notebook provides examples of JQ queries and explains how they work. You can use the examples as a starting point for writing your own JQ queries. For more information about JQ queries, see the [Azure IoT Operations JQ Expressions](./JQ_EXPRESSIONS.ipynb) notebook.\n",
    "\n",
    "## Machine Status Calculation"
   ]
  },
  {
   "cell_type": "code",
   "execution_count": 1,
   "metadata": {
    "vscode": {
     "languageId": "shellscript"
    }
   },
   "outputs": [
    {
     "name": "stdout",
     "output_type": "stream",
     "text": [
      "\u001b[1;39m{\n",
      "  \u001b[0m\u001b[34;1m\"timestamp\"\u001b[0m\u001b[1;39m: \u001b[0m\u001b[0;32m\"2023-12-18T07:08:51.9706158Z\"\u001b[0m\u001b[1;39m,\n",
      "  \u001b[0m\u001b[34;1m\"messageType\"\u001b[0m\u001b[1;39m: \u001b[0m\u001b[0;32m\"ua-deltaframe\"\u001b[0m\u001b[1;39m,\n",
      "  \u001b[0m\u001b[34;1m\"payload\"\u001b[0m\u001b[1;39m: \u001b[0m\u001b[1;39m{\n",
      "    \u001b[0m\u001b[34;1m\"ns=2;s=AreaName.MachineName.Status.Idle\"\u001b[0m\u001b[1;39m: \u001b[0m\u001b[1;39m{\n",
      "      \u001b[0m\u001b[34;1m\"SourceTimestamp\"\u001b[0m\u001b[1;39m: \u001b[0m\u001b[0;32m\"2023-12-18T07:08:51.5575029Z\"\u001b[0m\u001b[1;39m,\n",
      "      \u001b[0m\u001b[34;1m\"Value\"\u001b[0m\u001b[1;39m: \u001b[0m\u001b[0;39mtrue\u001b[0m\u001b[1;39m\n",
      "    \u001b[1;39m}\u001b[0m\u001b[1;39m\n",
      "  \u001b[1;39m}\u001b[0m\u001b[1;39m,\n",
      "  \u001b[0m\u001b[34;1m\"dataSetWriterName\"\u001b[0m\u001b[1;39m: \u001b[0m\u001b[0;32m\"SomeName\"\u001b[0m\u001b[1;39m,\n",
      "  \u001b[0m\u001b[34;1m\"sequenceNumber\"\u001b[0m\u001b[1;39m: \u001b[0m\u001b[0;39m9001\u001b[0m\u001b[1;39m\n",
      "\u001b[1;39m}\u001b[0m\n",
      "  \u001b[0m\u001b[34;1m\"timestamp\"\u001b[0m\u001b[1;39m: \u001b[0m\u001b[0;32m\"2023-12-18T07:08:51.9706158Z\"\u001b[0m\u001b[1;39m,\n",
      "  \u001b[0m\u001b[34;1m\"messageType\"\u001b[0m\u001b[1;39m: \u001b[0m\u001b[0;32m\"ua-deltaframe\"\u001b[0m\u001b[1;39m,\n",
      "  \u001b[0m\u001b[34;1m\"payload\"\u001b[0m\u001b[1;39m: \u001b[0m\u001b[1;39m{\n",
      "    \u001b[0m\u001b[34;1m\"ns=2;s=AreaName.MachineName.Status.Idle\"\u001b[0m\u001b[1;39m: \u001b[0m\u001b[1;39m{\n",
      "      \u001b[0m\u001b[34;1m\"SourceTimestamp\"\u001b[0m\u001b[1;39m: \u001b[0m\u001b[0;32m\"2023-12-18T07:08:51.5575029Z\"\u001b[0m\u001b[1;39m,\n",
      "      \u001b[0m\u001b[34;1m\"Value\"\u001b[0m\u001b[1;39m: \u001b[0m\u001b[0;39mtrue\u001b[0m\u001b[1;39m\n",
      "    \u001b[1;39m}\u001b[0m\u001b[1;39m\n",
      "  \u001b[1;39m}\u001b[0m\u001b[1;39m,\n",
      "  \u001b[0m\u001b[34;1m\"dataSetWriterName\"\u001b[0m\u001b[1;39m: \u001b[0m\u001b[0;32m\"SomeName\"\u001b[0m\u001b[1;39m,\n",
      "  \u001b[0m\u001b[34;1m\"sequenceNumber\"\u001b[0m\u001b[1;39m: \u001b[0m\u001b[0;39m9001\u001b[0m\u001b[1;39m\n",
      "\u001b[1;39m}\u001b[0m\n"
     ]
    }
   ],
   "source": [
    "export json='{\n",
    "        \"timestamp\": \"2023-12-18T07:08:51.9706158Z\",\n",
    "        \"messageType\": \"ua-deltaframe\",\n",
    "        \"payload\": {\n",
    "            \"ns=2;s=AreaName.MachineName.Status.Idle\": {\n",
    "                \"SourceTimestamp\": \"2023-12-18T07:08:51.5575029Z\",\n",
    "                \"Value\": true\n",
    "            }\n",
    "        },\n",
    "        \"dataSetWriterName\": \"SomeName\",\n",
    "        \"sequenceNumber\": 9001\n",
    "}'\n",
    "\n",
    "echo $json | jq"
   ]
  },
  {
   "cell_type": "markdown",
   "metadata": {},
   "source": [
    "If you want to access the value of a specific field in a JSON object, you can use a JQ query to extract the value. For example, the following JQ query extracts the value of the `Value` field from the `$json` object:"
   ]
  },
  {
   "cell_type": "code",
   "execution_count": 2,
   "metadata": {
    "vscode": {
     "languageId": "shellscript"
    }
   },
   "outputs": [
    {
     "name": "stdout",
     "output_type": "stream",
     "text": [
      "\u001b[0;39mtrue\u001b[0m\n"
     ]
    }
   ],
   "source": [
    "echo $json | jq '.payload.\"ns=2;s=AreaName.MachineName.Status.Idle\".Value'"
   ]
  },
  {
   "cell_type": "markdown",
   "metadata": {},
   "source": [
    "The next cell takes the above JSON and extracts the value of the `payload` field and uses `to_entries` to convert the object into an array of key-value pairs."
   ]
  },
  {
   "cell_type": "code",
   "execution_count": 3,
   "metadata": {
    "vscode": {
     "languageId": "shellscript"
    }
   },
   "outputs": [
    {
     "name": "stdout",
     "output_type": "stream",
     "text": [
      "\u001b[1;39m[\n",
      "  \u001b[1;39m{\n",
      "    \u001b[0m\u001b[34;1m\"key\"\u001b[0m\u001b[1;39m: \u001b[0m\u001b[0;32m\"ns=2;s=AreaName.MachineName.Status.Idle\"\u001b[0m\u001b[1;39m,\n",
      "    \u001b[0m\u001b[34;1m\"value\"\u001b[0m\u001b[1;39m: \u001b[0m\u001b[1;39m{\n",
      "      \u001b[0m\u001b[34;1m\"SourceTimestamp\"\u001b[0m\u001b[1;39m: \u001b[0m\u001b[0;32m\"2023-12-18T07:08:51.5575029Z\"\u001b[0m\u001b[1;39m,\n",
      "      \u001b[0m\u001b[34;1m\"Value\"\u001b[0m\u001b[1;39m: \u001b[0m\u001b[0;39mtrue\u001b[0m\u001b[1;39m\n",
      "    \u001b[1;39m}\u001b[0m\u001b[1;39m\n",
      "  \u001b[1;39m}\u001b[0m\u001b[1;39m\n",
      "\u001b[1;39m]\u001b[0m\n",
      "  \u001b[1;39m{\n",
      "    \u001b[0m\u001b[34;1m\"key\"\u001b[0m\u001b[1;39m: \u001b[0m\u001b[0;32m\"ns=2;s=AreaName.MachineName.Status.Idle\"\u001b[0m\u001b[1;39m,\n",
      "    \u001b[0m\u001b[34;1m\"value\"\u001b[0m\u001b[1;39m: \u001b[0m\u001b[1;39m{\n",
      "      \u001b[0m\u001b[34;1m\"SourceTimestamp\"\u001b[0m\u001b[1;39m: \u001b[0m\u001b[0;32m\"2023-12-18T07:08:51.5575029Z\"\u001b[0m\u001b[1;39m,\n",
      "      \u001b[0m\u001b[34;1m\"Value\"\u001b[0m\u001b[1;39m: \u001b[0m\u001b[0;39mtrue\u001b[0m\u001b[1;39m\n",
      "    \u001b[1;39m}\u001b[0m\u001b[1;39m\n",
      "  \u001b[1;39m}\u001b[0m\u001b[1;39m\n",
      "\u001b[1;39m]\u001b[0m\n"
     ]
    }
   ],
   "source": [
    "export output=$(echo $json | jq '(.payload \n",
    "        | to_entries)')\n",
    "\n",
    "echo $output | jq"
   ]
  },
  {
   "cell_type": "markdown",
   "metadata": {},
   "source": [
    "Now that we have the key-value pairs, we can use the `map` function to transform the array. The below jq script does the following: \n",
    "\n",
    "1. `.payload`: This selects the `payload` field of the input JSON.\n",
    "\n",
    "1. `to_entries`: This converts the JSON object into an array of key-value pairs.\n",
    "\n",
    "1. `map()`: This function iterates over each key-value pair in the array.\n",
    "\n",
    "1. `if .key | test(\"Status\") then`: This checks if the key contains the string \"Status\".\n",
    "\n",
    "1. `{\"key\": \"NodeId\", \"value\": .key}`: If the key contains \"Status\", it creates a new key-value pair where the key is \"NodeId\" and the value is the original key.\n",
    "\n",
    "1. `{\"key\": (.key | split(\".\")[-1]), \"value\": .value.Value}`: If the key does not contain \"Status\", it creates a new key-value pair where the key is the last part of the original key (after splitting it by \".\") and the value is the Value field of the original value.\n",
    "\n",
    "1. `from_entries`: This converts the array of key-value pairs back into a JSON object."
   ]
  },
  {
   "cell_type": "code",
   "execution_count": 4,
   "metadata": {
    "vscode": {
     "languageId": "shellscript"
    }
   },
   "outputs": [
    {
     "name": "stdout",
     "output_type": "stream",
     "text": [
      "\u001b[1;39m{\n",
      "  \u001b[0m\u001b[34;1m\"NodeId\"\u001b[0m\u001b[1;39m: \u001b[0m\u001b[0;32m\"ns=2;s=AreaName.MachineName.Status.Idle\"\u001b[0m\u001b[1;39m,\n",
      "  \u001b[0m\u001b[34;1m\"Idle\"\u001b[0m\u001b[1;39m: \u001b[0m\u001b[0;39mtrue\u001b[0m\u001b[1;39m\n",
      "\u001b[1;39m}\u001b[0m\n",
      "  \u001b[0m\u001b[34;1m\"NodeId\"\u001b[0m\u001b[1;39m: \u001b[0m\u001b[0;32m\"ns=2;s=AreaName.MachineName.Status.Idle\"\u001b[0m\u001b[1;39m,\n",
      "  \u001b[0m\u001b[34;1m\"Idle\"\u001b[0m\u001b[1;39m: \u001b[0m\u001b[0;39mtrue\u001b[0m\u001b[1;39m\n",
      "\u001b[1;39m}\u001b[0m\n"
     ]
    }
   ],
   "source": [
    "export output=$(echo $json | jq '(.payload \n",
    "        | to_entries \n",
    "        | map(\n",
    "            if .key | test(\"Status\") then\n",
    "              {\"key\": \"NodeId\", \"value\": .key},\n",
    "              {\"key\": (.key | split(\".\")[-1]), \"value\": .value.Value}\n",
    "            else\n",
    "              .\n",
    "            end\n",
    "          ) \n",
    "        | from_entries)')\n",
    "\n",
    "echo $output | jq"
   ]
  },
  {
   "cell_type": "markdown",
   "metadata": {},
   "source": [
    "Now that we have flattened out the input payload, we can run a JQ query to calculate the machine status. The machine status is calculated based on the \"MachineStatus\" key (eg. `Idle`). The below JQ query creates a new JSON object with two properties: `NodeId` and `MACHINE_STATUS`. The value of `NodeId` is copied from the input JSON. The value of `MACHINE_STATUS` is then determind by a series of conditional checks based on the value of `MachineStatus` in the input JSON."
   ]
  },
  {
   "cell_type": "code",
   "execution_count": 5,
   "metadata": {
    "vscode": {
     "languageId": "shellscript"
    }
   },
   "outputs": [
    {
     "name": "stdout",
     "output_type": "stream",
     "text": [
      "\u001b[1;39m{\n",
      "  \u001b[0m\u001b[34;1m\"NodeId\"\u001b[0m\u001b[1;39m: \u001b[0m\u001b[0;32m\"ns=2;s=AreaName.MachineName.Status.Idle\"\u001b[0m\u001b[1;39m,\n",
      "  \u001b[0m\u001b[34;1m\"MACHINE_STATUS\"\u001b[0m\u001b[1;39m: \u001b[0m\u001b[0;32m\"IDLE\"\u001b[0m\u001b[1;39m\n",
      "\u001b[1;39m}\u001b[0m\n",
      "  \u001b[0m\u001b[34;1m\"NodeId\"\u001b[0m\u001b[1;39m: \u001b[0m\u001b[0;32m\"ns=2;s=AreaName.MachineName.Status.Idle\"\u001b[0m\u001b[1;39m,\n",
      "  \u001b[0m\u001b[34;1m\"MACHINE_STATUS\"\u001b[0m\u001b[1;39m: \u001b[0m\u001b[0;32m\"IDLE\"\u001b[0m\u001b[1;39m\n",
      "\u001b[1;39m}\u001b[0m\n"
     ]
    }
   ],
   "source": [
    "echo $output | jq '{\n",
    "              \"NodeId\": .NodeId,\n",
    "              \"MACHINE_STATUS\": (\n",
    "                if .Fault == true then \"FAULT\"\n",
    "                elif .Idle == true then \"IDLE\"\n",
    "                elif .Mode1 == true and .Mode2 == false then \"MODE1\"\n",
    "                elif .Mode1 == false and .Mode2 == true then \"MODE2\"\n",
    "                else \"UNDEFINED\"\n",
    "                end) \n",
    "            }'"
   ]
  }
 ],
 "metadata": {
  "kernelspec": {
   "display_name": "Bash",
   "language": "bash",
   "name": "bash"
  },
  "language_info": {
   "codemirror_mode": "shell",
   "file_extension": ".sh",
   "mimetype": "text/x-sh",
   "name": "bash"
  }
 },
 "nbformat": 4,
 "nbformat_minor": 2
}
